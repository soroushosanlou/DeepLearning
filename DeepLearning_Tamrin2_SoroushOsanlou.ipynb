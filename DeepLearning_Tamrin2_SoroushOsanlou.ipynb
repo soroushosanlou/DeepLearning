{
  "nbformat": 4,
  "nbformat_minor": 0,
  "metadata": {
    "colab": {
      "name": "DeepLearning_Tamrin2_SoroushOsanlou.ipynb",
      "provenance": [],
      "collapsed_sections": [],
      "authorship_tag": "ABX9TyNEGTqIpEQ+3GMZV9kbYLQZ",
      "include_colab_link": true
    },
    "kernelspec": {
      "name": "python3",
      "display_name": "Python 3"
    },
    "language_info": {
      "name": "python"
    },
    "accelerator": "GPU"
  },
  "cells": [
    {
      "cell_type": "markdown",
      "metadata": {
        "id": "view-in-github",
        "colab_type": "text"
      },
      "source": [
        "<a href=\"https://colab.research.google.com/github/soroushosanlou/DeepLearning/blob/main/DeepLearning_Tamrin2_SoroushOsanlou.ipynb\" target=\"_parent\"><img src=\"https://colab.research.google.com/assets/colab-badge.svg\" alt=\"Open In Colab\"/></a>"
      ]
    },
    {
      "cell_type": "code",
      "metadata": {
        "id": "OdRRZn8D5gs-"
      },
      "source": [
        "import numpy as np\n",
        "import matplotlib.pyplot as plt\n",
        "from tensorflow import keras\n",
        "from sklearn.datasets import load_iris\n",
        "from sklearn.model_selection import train_test_split\n",
        "from keras.models import Sequential\n",
        "from keras.layers import Dense, Dropout\n",
        "from keras.optimizers import Adam\n"
      ],
      "execution_count": 93,
      "outputs": []
    },
    {
      "cell_type": "code",
      "metadata": {
        "id": "RkKndHqR6TwI"
      },
      "source": [
        "fashion_mnist = keras.datasets.fashion_mnist\n",
        "(train_images, train_labels), (test_images, test_labels) = fashion_mnist.load_data()"
      ],
      "execution_count": 94,
      "outputs": []
    },
    {
      "cell_type": "code",
      "metadata": {
        "colab": {
          "base_uri": "https://localhost:8080/"
        },
        "id": "cMHiHLcHArFf",
        "outputId": "f1a8205f-f35e-4e18-aff2-2ee7bdd4eee7"
      },
      "source": [
        "print(train_images.shape)\n",
        "print(train_labels.shape)\n",
        "print(test_images.shape)\n",
        "print(test_labels.shape)"
      ],
      "execution_count": 115,
      "outputs": [
        {
          "output_type": "stream",
          "text": [
            "(60000, 28, 28)\n",
            "(60000,)\n",
            "(10000, 28, 28)\n",
            "(10000,)\n"
          ],
          "name": "stdout"
        }
      ]
    },
    {
      "cell_type": "code",
      "metadata": {
        "colab": {
          "base_uri": "https://localhost:8080/"
        },
        "id": "wYzGeOQr6Xjf",
        "outputId": "d0e2807a-e969-496a-ee2c-37bae52bc61b"
      },
      "source": [
        "len(np.unique(train_labels))"
      ],
      "execution_count": 116,
      "outputs": [
        {
          "output_type": "execute_result",
          "data": {
            "text/plain": [
              "10"
            ]
          },
          "metadata": {
            "tags": []
          },
          "execution_count": 116
        }
      ]
    },
    {
      "cell_type": "code",
      "metadata": {
        "colab": {
          "base_uri": "https://localhost:8080/",
          "height": 773
        },
        "id": "oKexzOIcFKZq",
        "outputId": "9b60e853-d57d-4506-b525-0ca79dfec69f"
      },
      "source": [
        "for i in range(10,13):\n",
        "  plt.figure()\n",
        "  plt.imshow(train_images[i])\n",
        "  plt.colorbar()\n",
        "  plt.grid(False)\n",
        "  plt.show()"
      ],
      "execution_count": 117,
      "outputs": [
        {
          "output_type": "display_data",
          "data": {
            "image/png": "[encoded data removed]",
            "text/plain": [
              "<Figure size 432x288 with 2 Axes>"
            ]
          },
          "metadata": {
            "tags": [],
            "needs_background": "light"
          }
        },
        {
          "output_type": "display_data",
          "data": {
            "image/png": "[encoded data removed]",
            "text/plain": [
              "<Figure size 432x288 with 2 Axes>"
            ]
          },
          "metadata": {
            "tags": [],
            "needs_background": "light"
          }
        },
        {
          "output_type": "display_data",
          "data": {
            "image/png": "[encoded data removed]",
            "text/plain": [
              "<Figure size 432x288 with 2 Axes>"
            ]
          },
          "metadata": {
            "tags": [],
            "needs_background": "light"
          }
        }
      ]
    },
    {
      "cell_type": "code",
      "metadata": {
        "colab": {
          "base_uri": "https://localhost:8080/"
        },
        "id": "pZxAXAAv6XmP",
        "outputId": "51d33fd5-146c-4e95-9e39-c6b6b94cdf39"
      },
      "source": [
        "for i in range (3):\n",
        "  print(train_images[i])"
      ],
      "execution_count": 118,
      "outputs": [
        {
          "output_type": "stream",
          "text": [
            "[[0.         0.         0.         0.         0.         0.\n",
            "  0.         0.         0.         0.         0.         0.\n",
            "  0.         0.         0.         0.         0.         0.\n",
            "  0.         0.         0.         0.         0.         0.\n",
            "  0.         0.         0.         0.        ]\n",
            " [0.         0.         0.         0.         0.         0.\n",
            "  0.         0.         0.         0.         0.         0.\n",
            "  0.         0.         0.         0.         0.         0.\n",
            "  0.         0.         0.         0.         0.         0.\n",
            "  0.         0.         0.         0.        ]\n",
            " [0.         0.         0.         0.         0.         0.\n",
            "  0.         0.         0.         0.         0.         0.\n",
            "  0.         0.         0.         0.         0.         0.\n",
            "  0.         0.         0.         0.         0.         0.\n",
            "  0.         0.         0.         0.        ]\n",
            " [0.         0.         0.         0.         0.         0.\n",
            "  0.         0.         0.         0.         0.         0.\n",
            "  0.00392157 0.         0.         0.05098039 0.28627452 0.\n",
            "  0.         0.00392157 0.01568628 0.         0.         0.\n",
            "  0.         0.00392157 0.00392157 0.        ]\n",
            " [0.         0.         0.         0.         0.         0.\n",
            "  0.         0.         0.         0.         0.         0.\n",
            "  0.01176471 0.         0.14117648 0.53333336 0.49803922 0.24313726\n",
            "  0.21176471 0.         0.         0.         0.00392157 0.01176471\n",
            "  0.01568628 0.         0.         0.01176471]\n",
            " [0.         0.         0.         0.         0.         0.\n",
            "  0.         0.         0.         0.         0.         0.\n",
            "  0.02352941 0.         0.4        0.8        0.6901961  0.5254902\n",
            "  0.5647059  0.48235294 0.09019608 0.         0.         0.\n",
            "  0.         0.04705882 0.03921569 0.        ]\n",
            " [0.         0.         0.         0.         0.         0.\n",
            "  0.         0.         0.         0.         0.         0.\n",
            "  0.         0.         0.60784316 0.9254902  0.8117647  0.69803923\n",
            "  0.41960785 0.6117647  0.6313726  0.42745098 0.2509804  0.09019608\n",
            "  0.3019608  0.50980395 0.28235295 0.05882353]\n",
            " [0.         0.         0.         0.         0.         0.\n",
            "  0.         0.         0.         0.         0.         0.00392157\n",
            "  0.         0.27058825 0.8117647  0.8745098  0.85490197 0.84705883\n",
            "  0.84705883 0.6392157  0.49803922 0.4745098  0.47843137 0.57254905\n",
            "  0.5529412  0.34509805 0.6745098  0.25882354]\n",
            " [0.         0.         0.         0.         0.         0.\n",
            "  0.         0.         0.         0.00392157 0.00392157 0.00392157\n",
            "  0.         0.78431374 0.9098039  0.9098039  0.9137255  0.8980392\n",
            "  0.8745098  0.8745098  0.84313726 0.8352941  0.6431373  0.49803922\n",
            "  0.48235294 0.76862746 0.8980392  0.        ]\n",
            " [0.         0.         0.         0.         0.         0.\n",
            "  0.         0.         0.         0.         0.         0.\n",
            "  0.         0.7176471  0.88235295 0.84705883 0.8745098  0.89411765\n",
            "  0.92156863 0.8901961  0.8784314  0.87058824 0.8784314  0.8666667\n",
            "  0.8745098  0.9607843  0.6784314  0.        ]\n",
            " [0.         0.         0.         0.         0.         0.\n",
            "  0.         0.         0.         0.         0.         0.\n",
            "  0.         0.75686276 0.89411765 0.85490197 0.8352941  0.7764706\n",
            "  0.7058824  0.83137256 0.8235294  0.827451   0.8352941  0.8745098\n",
            "  0.8627451  0.9529412  0.7921569  0.        ]\n",
            " [0.         0.         0.         0.         0.         0.\n",
            "  0.         0.         0.         0.00392157 0.01176471 0.\n",
            "  0.04705882 0.85882354 0.8627451  0.83137256 0.85490197 0.7529412\n",
            "  0.6627451  0.8901961  0.8156863  0.85490197 0.8784314  0.83137256\n",
            "  0.8862745  0.77254903 0.81960785 0.20392157]\n",
            " [0.         0.         0.         0.         0.         0.\n",
            "  0.         0.         0.         0.         0.02352941 0.\n",
            "  0.3882353  0.95686275 0.87058824 0.8627451  0.85490197 0.79607844\n",
            "  0.7764706  0.8666667  0.84313726 0.8352941  0.87058824 0.8627451\n",
            "  0.9607843  0.46666667 0.654902   0.21960784]\n",
            " [0.         0.         0.         0.         0.         0.\n",
            "  0.         0.         0.         0.01568628 0.         0.\n",
            "  0.21568628 0.9254902  0.89411765 0.9019608  0.89411765 0.9411765\n",
            "  0.9098039  0.8352941  0.85490197 0.8745098  0.91764706 0.8509804\n",
            "  0.8509804  0.81960785 0.36078432 0.        ]\n",
            " [0.         0.         0.00392157 0.01568628 0.02352941 0.02745098\n",
            "  0.00784314 0.         0.         0.         0.         0.\n",
            "  0.92941177 0.8862745  0.8509804  0.8745098  0.87058824 0.85882354\n",
            "  0.87058824 0.8666667  0.84705883 0.8745098  0.8980392  0.84313726\n",
            "  0.85490197 1.         0.3019608  0.        ]\n",
            " [0.         0.01176471 0.         0.         0.         0.\n",
            "  0.         0.         0.         0.24313726 0.5686275  0.8\n",
            "  0.89411765 0.8117647  0.8352941  0.8666667  0.85490197 0.8156863\n",
            "  0.827451   0.85490197 0.8784314  0.8745098  0.85882354 0.84313726\n",
            "  0.8784314  0.95686275 0.62352943 0.        ]\n",
            " [0.         0.         0.         0.         0.07058824 0.17254902\n",
            "  0.32156864 0.41960785 0.7411765  0.89411765 0.8627451  0.87058824\n",
            "  0.8509804  0.8862745  0.78431374 0.8039216  0.827451   0.9019608\n",
            "  0.8784314  0.91764706 0.6901961  0.7372549  0.98039216 0.972549\n",
            "  0.9137255  0.93333334 0.84313726 0.        ]\n",
            " [0.         0.22352941 0.73333335 0.8156863  0.8784314  0.8666667\n",
            "  0.8784314  0.8156863  0.8        0.8392157  0.8156863  0.81960785\n",
            "  0.78431374 0.62352943 0.9607843  0.75686276 0.80784315 0.8745098\n",
            "  1.         1.         0.8666667  0.91764706 0.8666667  0.827451\n",
            "  0.8627451  0.9098039  0.9647059  0.        ]\n",
            " [0.01176471 0.7921569  0.89411765 0.8784314  0.8666667  0.827451\n",
            "  0.827451   0.8392157  0.8039216  0.8039216  0.8039216  0.8627451\n",
            "  0.9411765  0.3137255  0.5882353  1.         0.8980392  0.8666667\n",
            "  0.7372549  0.6039216  0.7490196  0.8235294  0.8        0.81960785\n",
            "  0.87058824 0.89411765 0.88235295 0.        ]\n",
            " [0.38431373 0.9137255  0.7764706  0.8235294  0.87058824 0.8980392\n",
            "  0.8980392  0.91764706 0.9764706  0.8627451  0.7607843  0.84313726\n",
            "  0.8509804  0.94509804 0.25490198 0.28627452 0.41568628 0.45882353\n",
            "  0.65882355 0.85882354 0.8666667  0.84313726 0.8509804  0.8745098\n",
            "  0.8745098  0.8784314  0.8980392  0.11372549]\n",
            " [0.29411766 0.8        0.83137256 0.8        0.75686276 0.8039216\n",
            "  0.827451   0.88235295 0.84705883 0.7254902  0.77254903 0.80784315\n",
            "  0.7764706  0.8352941  0.9411765  0.7647059  0.8901961  0.9607843\n",
            "  0.9372549  0.8745098  0.85490197 0.83137256 0.81960785 0.87058824\n",
            "  0.8627451  0.8666667  0.9019608  0.2627451 ]\n",
            " [0.1882353  0.79607844 0.7176471  0.7607843  0.8352941  0.77254903\n",
            "  0.7254902  0.74509805 0.7607843  0.7529412  0.7921569  0.8392157\n",
            "  0.85882354 0.8666667  0.8627451  0.9254902  0.88235295 0.84705883\n",
            "  0.78039217 0.80784315 0.7294118  0.70980394 0.69411767 0.6745098\n",
            "  0.70980394 0.8039216  0.80784315 0.4509804 ]\n",
            " [0.         0.47843137 0.85882354 0.75686276 0.7019608  0.67058825\n",
            "  0.7176471  0.76862746 0.8        0.8235294  0.8352941  0.8117647\n",
            "  0.827451   0.8235294  0.78431374 0.76862746 0.7607843  0.7490196\n",
            "  0.7647059  0.7490196  0.7764706  0.7529412  0.6901961  0.6117647\n",
            "  0.654902   0.69411767 0.8235294  0.36078432]\n",
            " [0.         0.         0.2901961  0.7411765  0.83137256 0.7490196\n",
            "  0.6862745  0.6745098  0.6862745  0.70980394 0.7254902  0.7372549\n",
            "  0.7411765  0.7372549  0.75686276 0.7764706  0.8        0.81960785\n",
            "  0.8235294  0.8235294  0.827451   0.7372549  0.7372549  0.7607843\n",
            "  0.7529412  0.84705883 0.6666667  0.        ]\n",
            " [0.00784314 0.         0.         0.         0.25882354 0.78431374\n",
            "  0.87058824 0.92941177 0.9372549  0.9490196  0.9647059  0.9529412\n",
            "  0.95686275 0.8666667  0.8627451  0.75686276 0.7490196  0.7019608\n",
            "  0.7137255  0.7137255  0.70980394 0.6901961  0.6509804  0.65882355\n",
            "  0.3882353  0.22745098 0.         0.        ]\n",
            " [0.         0.         0.         0.         0.         0.\n",
            "  0.         0.15686275 0.23921569 0.17254902 0.28235295 0.16078432\n",
            "  0.13725491 0.         0.         0.         0.         0.\n",
            "  0.         0.         0.         0.         0.         0.\n",
            "  0.         0.         0.         0.        ]\n",
            " [0.         0.         0.         0.         0.         0.\n",
            "  0.         0.         0.         0.         0.         0.\n",
            "  0.         0.         0.         0.         0.         0.\n",
            "  0.         0.         0.         0.         0.         0.\n",
            "  0.         0.         0.         0.        ]\n",
            " [0.         0.         0.         0.         0.         0.\n",
            "  0.         0.         0.         0.         0.         0.\n",
            "  0.         0.         0.         0.         0.         0.\n",
            "  0.         0.         0.         0.         0.         0.\n",
            "  0.         0.         0.         0.        ]]\n",
            "[[0.         0.         0.         0.         0.         0.00392157\n",
            "  0.         0.         0.         0.         0.16078432 0.7372549\n",
            "  0.40392157 0.21176471 0.1882353  0.16862746 0.34117648 0.65882355\n",
            "  0.52156866 0.0627451  0.         0.         0.         0.\n",
            "  0.         0.         0.         0.        ]\n",
            " [0.         0.         0.         0.00392157 0.         0.\n",
            "  0.         0.19215687 0.53333336 0.85882354 0.84705883 0.89411765\n",
            "  0.9254902  1.         1.         1.         1.         0.8509804\n",
            "  0.84313726 0.99607843 0.90588236 0.627451   0.1764706  0.\n",
            "  0.         0.         0.         0.        ]\n",
            " [0.         0.         0.         0.         0.         0.05490196\n",
            "  0.6901961  0.87058824 0.8784314  0.83137256 0.79607844 0.7764706\n",
            "  0.76862746 0.78431374 0.84313726 0.8        0.7921569  0.7882353\n",
            "  0.7882353  0.7882353  0.81960785 0.85490197 0.8784314  0.6431373\n",
            "  0.         0.         0.         0.        ]\n",
            " [0.         0.         0.         0.         0.         0.7372549\n",
            "  0.85882354 0.78431374 0.7764706  0.7921569  0.7764706  0.78039217\n",
            "  0.78039217 0.7882353  0.76862746 0.7764706  0.7764706  0.78431374\n",
            "  0.78431374 0.78431374 0.78431374 0.7882353  0.78431374 0.88235295\n",
            "  0.16078432 0.         0.         0.        ]\n",
            " [0.         0.         0.         0.         0.2        0.85882354\n",
            "  0.78039217 0.79607844 0.79607844 0.83137256 0.93333334 0.972549\n",
            "  0.98039216 0.9607843  0.9764706  0.9647059  0.96862745 0.9882353\n",
            "  0.972549   0.92156863 0.8117647  0.79607844 0.79607844 0.87058824\n",
            "  0.54901963 0.         0.         0.        ]\n",
            " [0.         0.         0.         0.         0.45490196 0.8862745\n",
            "  0.80784315 0.8        0.8117647  0.8        0.39607844 0.29411766\n",
            "  0.18431373 0.28627452 0.1882353  0.19607843 0.1764706  0.2\n",
            "  0.24705882 0.44313726 0.87058824 0.7921569  0.80784315 0.8627451\n",
            "  0.8784314  0.         0.         0.        ]\n",
            " [0.         0.         0.         0.         0.78431374 0.87058824\n",
            "  0.81960785 0.79607844 0.84313726 0.78431374 0.         0.27450982\n",
            "  0.38431373 0.         0.40392157 0.23137255 0.26666668 0.2784314\n",
            "  0.19215687 0.         0.85882354 0.80784315 0.8392157  0.8235294\n",
            "  0.98039216 0.14901961 0.         0.        ]\n",
            " [0.         0.         0.         0.         0.96862745 0.85490197\n",
            "  0.83137256 0.8235294  0.84313726 0.8392157  0.         0.99607843\n",
            "  0.9529412  0.54509807 1.         0.68235296 0.9843137  1.\n",
            "  0.8039216  0.         0.84313726 0.8509804  0.8392157  0.8156863\n",
            "  0.8627451  0.37254903 0.         0.        ]\n",
            " [0.         0.         0.         0.1764706  0.8862745  0.8392157\n",
            "  0.8392157  0.84313726 0.8784314  0.8039216  0.         0.16470589\n",
            "  0.13725491 0.23529412 0.0627451  0.06666667 0.04705882 0.05098039\n",
            "  0.27450982 0.         0.7411765  0.84705883 0.83137256 0.80784315\n",
            "  0.83137256 0.6117647  0.         0.        ]\n",
            " [0.         0.         0.         0.6431373  0.92156863 0.8392157\n",
            "  0.827451   0.8627451  0.84705883 0.7882353  0.20392157 0.2784314\n",
            "  0.34901962 0.36862746 0.3254902  0.30588236 0.27450982 0.29803923\n",
            "  0.36078432 0.34117648 0.80784315 0.8117647  0.87058824 0.8352941\n",
            "  0.85882354 0.8156863  0.         0.        ]\n",
            " [0.         0.         0.         0.41568628 0.73333335 0.8745098\n",
            "  0.92941177 0.972549   0.827451   0.7764706  0.9882353  0.98039216\n",
            "  0.972549   0.9607843  0.972549   0.9882353  0.99215686 0.98039216\n",
            "  0.9882353  0.9372549  0.7882353  0.83137256 0.88235295 0.84313726\n",
            "  0.75686276 0.44313726 0.         0.        ]\n",
            " [0.         0.         0.         0.         0.         0.06666667\n",
            "  0.21176471 0.62352943 0.87058824 0.75686276 0.8156863  0.7529412\n",
            "  0.77254903 0.78431374 0.78431374 0.78431374 0.78431374 0.7882353\n",
            "  0.79607844 0.7647059  0.8235294  0.64705884 0.         0.\n",
            "  0.         0.         0.         0.        ]\n",
            " [0.         0.         0.         0.         0.         0.\n",
            "  0.         0.18431373 0.88235295 0.7529412  0.8392157  0.79607844\n",
            "  0.80784315 0.8        0.8        0.8039216  0.80784315 0.8\n",
            "  0.83137256 0.77254903 0.85490197 0.41960785 0.         0.\n",
            "  0.         0.         0.         0.        ]\n",
            " [0.         0.         0.         0.         0.00392157 0.02352941\n",
            "  0.         0.18039216 0.83137256 0.7647059  0.83137256 0.7921569\n",
            "  0.80784315 0.8039216  0.8        0.8039216  0.80784315 0.8\n",
            "  0.83137256 0.78431374 0.85490197 0.35686275 0.         0.01176471\n",
            "  0.00392157 0.         0.         0.        ]\n",
            " [0.         0.         0.         0.         0.         0.00392157\n",
            "  0.         0.04313726 0.77254903 0.78039217 0.8039216  0.7921569\n",
            "  0.8039216  0.80784315 0.8        0.8039216  0.8117647  0.8\n",
            "  0.8039216  0.8039216  0.85490197 0.3019608  0.         0.01960784\n",
            "  0.         0.         0.         0.        ]\n",
            " [0.         0.         0.         0.         0.         0.01176471\n",
            "  0.         0.00784314 0.7490196  0.7764706  0.7882353  0.8039216\n",
            "  0.80784315 0.8039216  0.8039216  0.80784315 0.81960785 0.80784315\n",
            "  0.78039217 0.81960785 0.85882354 0.2901961  0.         0.01960784\n",
            "  0.         0.         0.         0.        ]\n",
            " [0.         0.         0.         0.         0.         0.00784314\n",
            "  0.         0.         0.7372549  0.77254903 0.78431374 0.8117647\n",
            "  0.8117647  0.8        0.8117647  0.8117647  0.8235294  0.8156863\n",
            "  0.7764706  0.8117647  0.8666667  0.28235295 0.         0.01568628\n",
            "  0.         0.         0.         0.        ]\n",
            " [0.         0.         0.         0.         0.         0.00784314\n",
            "  0.         0.         0.84313726 0.7764706  0.79607844 0.80784315\n",
            "  0.8156863  0.8039216  0.8117647  0.8117647  0.8235294  0.8156863\n",
            "  0.78431374 0.7921569  0.87058824 0.29411766 0.         0.01568628\n",
            "  0.         0.         0.         0.        ]\n",
            " [0.         0.         0.         0.         0.         0.00392157\n",
            "  0.         0.         0.83137256 0.7764706  0.81960785 0.80784315\n",
            "  0.81960785 0.80784315 0.8156863  0.8117647  0.827451   0.80784315\n",
            "  0.8039216  0.7764706  0.8666667  0.3137255  0.         0.01176471\n",
            "  0.         0.         0.         0.        ]\n",
            " [0.         0.         0.         0.         0.         0.00392157\n",
            "  0.         0.         0.8        0.7882353  0.8039216  0.8156863\n",
            "  0.8117647  0.8039216  0.827451   0.8039216  0.8235294  0.8235294\n",
            "  0.81960785 0.7647059  0.8666667  0.3764706  0.         0.01176471\n",
            "  0.         0.         0.         0.        ]\n",
            " [0.         0.         0.         0.         0.         0.00392157\n",
            "  0.         0.         0.7921569  0.7882353  0.8039216  0.81960785\n",
            "  0.8117647  0.8039216  0.8352941  0.80784315 0.8235294  0.81960785\n",
            "  0.8235294  0.7607843  0.8509804  0.4117647  0.         0.00784314\n",
            "  0.         0.         0.         0.        ]\n",
            " [0.         0.         0.         0.         0.         0.00392157\n",
            "  0.         0.         0.8        0.8        0.8039216  0.8156863\n",
            "  0.8117647  0.8039216  0.84313726 0.8117647  0.8235294  0.8156863\n",
            "  0.827451   0.75686276 0.8352941  0.4509804  0.         0.00784314\n",
            "  0.         0.         0.         0.        ]\n",
            " [0.         0.         0.         0.         0.         0.\n",
            "  0.         0.         0.8        0.8117647  0.8117647  0.8156863\n",
            "  0.80784315 0.80784315 0.84313726 0.8235294  0.8235294  0.8117647\n",
            "  0.83137256 0.7647059  0.8235294  0.4627451  0.         0.00784314\n",
            "  0.         0.         0.         0.        ]\n",
            " [0.         0.         0.         0.         0.         0.00392157\n",
            "  0.         0.         0.7764706  0.8156863  0.8156863  0.8156863\n",
            "  0.8        0.8117647  0.83137256 0.83137256 0.8235294  0.8117647\n",
            "  0.827451   0.76862746 0.8117647  0.4745098  0.         0.00392157\n",
            "  0.         0.         0.         0.        ]\n",
            " [0.         0.         0.         0.         0.         0.00392157\n",
            "  0.         0.         0.7764706  0.8235294  0.8117647  0.8156863\n",
            "  0.80784315 0.81960785 0.8352941  0.83137256 0.827451   0.8117647\n",
            "  0.8235294  0.77254903 0.8117647  0.4862745  0.         0.00392157\n",
            "  0.         0.         0.         0.        ]\n",
            " [0.         0.         0.         0.         0.         0.\n",
            "  0.         0.         0.6745098  0.8235294  0.79607844 0.7882353\n",
            "  0.78039217 0.8        0.8117647  0.8039216  0.8        0.7882353\n",
            "  0.8039216  0.77254903 0.80784315 0.49803922 0.         0.\n",
            "  0.         0.         0.         0.        ]\n",
            " [0.         0.         0.         0.         0.         0.\n",
            "  0.         0.         0.7372549  0.8666667  0.8392157  0.91764706\n",
            "  0.9254902  0.93333334 0.95686275 0.95686275 0.95686275 0.9411765\n",
            "  0.9529412  0.8392157  0.8784314  0.63529414 0.         0.00784314\n",
            "  0.         0.         0.         0.        ]\n",
            " [0.         0.         0.         0.         0.         0.00392157\n",
            "  0.         0.         0.54509807 0.57254905 0.50980395 0.5294118\n",
            "  0.5294118  0.5372549  0.49019608 0.4862745  0.49019608 0.4745098\n",
            "  0.46666667 0.44705883 0.50980395 0.29803923 0.         0.\n",
            "  0.         0.         0.         0.        ]]\n",
            "[[0.         0.         0.         0.         0.         0.\n",
            "  0.         0.         0.         0.08627451 0.4627451  0.09411765\n",
            "  0.         0.         0.         0.         0.         0.1882353\n",
            "  0.34509805 0.01960784 0.         0.         0.         0.\n",
            "  0.         0.         0.         0.        ]\n",
            " [0.         0.         0.         0.         0.         0.\n",
            "  0.         0.         0.04705882 0.39215687 0.83137256 0.8039216\n",
            "  0.7254902  0.7019608  0.6784314  0.7294118  0.75686276 0.8666667\n",
            "  0.5568628  0.33333334 0.         0.         0.         0.\n",
            "  0.         0.         0.         0.        ]\n",
            " [0.         0.         0.         0.         0.         0.\n",
            "  0.         0.         0.         0.33333334 0.29803923 0.78039217\n",
            "  0.88235295 0.972549   1.         0.93333334 0.8862745  0.6156863\n",
            "  0.26666668 0.3137255  0.         0.         0.         0.\n",
            "  0.         0.         0.         0.        ]\n",
            " [0.         0.         0.         0.         0.         0.\n",
            "  0.         0.         0.         0.35686275 0.27058825 0.35686275\n",
            "  0.7882353  0.85490197 0.88235295 0.81960785 0.61960787 0.23921569\n",
            "  0.3647059  0.28235295 0.         0.         0.         0.\n",
            "  0.         0.         0.         0.        ]\n",
            " [0.         0.         0.         0.         0.         0.\n",
            "  0.         0.         0.         0.30980393 0.34901962 0.23921569\n",
            "  0.23137255 0.34117648 0.42352942 0.29411766 0.21960784 0.29803923\n",
            "  0.38039216 0.28627452 0.         0.         0.         0.\n",
            "  0.         0.         0.         0.        ]\n",
            " [0.         0.         0.         0.         0.         0.\n",
            "  0.         0.         0.         0.29411766 0.34901962 0.3137255\n",
            "  0.3137255  0.2627451  0.24705882 0.28627452 0.3254902  0.3137255\n",
            "  0.3764706  0.28235295 0.         0.         0.         0.\n",
            "  0.         0.         0.         0.        ]\n",
            " [0.         0.         0.         0.         0.         0.\n",
            "  0.         0.         0.         0.3019608  0.34509805 0.3019608\n",
            "  0.3137255  0.3254902  0.3254902  0.3254902  0.3254902  0.31764707\n",
            "  0.37254903 0.29803923 0.         0.         0.         0.\n",
            "  0.         0.         0.         0.        ]\n",
            " [0.         0.         0.         0.         0.         0.\n",
            "  0.         0.         0.         0.34901962 0.3764706  0.3137255\n",
            "  0.3254902  0.31764707 0.32941177 0.33333334 0.33333334 0.33333334\n",
            "  0.38039216 0.32941177 0.         0.         0.         0.\n",
            "  0.         0.         0.         0.        ]\n",
            " [0.         0.         0.         0.         0.         0.\n",
            "  0.         0.         0.         0.3647059  0.38039216 0.31764707\n",
            "  0.33333334 0.32941177 0.33333334 0.34117648 0.34509805 0.32941177\n",
            "  0.3882353  0.34117648 0.         0.         0.         0.\n",
            "  0.         0.         0.         0.        ]\n",
            " [0.         0.         0.         0.         0.         0.\n",
            "  0.         0.         0.         0.37254903 0.34117648 0.32941177\n",
            "  0.34117648 0.34509805 0.33333334 0.34117648 0.34117648 0.32941177\n",
            "  0.36078432 0.34117648 0.         0.         0.         0.\n",
            "  0.         0.         0.         0.        ]\n",
            " [0.         0.         0.         0.         0.         0.\n",
            "  0.         0.         0.         0.38039216 0.34117648 0.34117648\n",
            "  0.33333334 0.34509805 0.34117648 0.34117648 0.34117648 0.34509805\n",
            "  0.33333334 0.41960785 0.         0.         0.         0.\n",
            "  0.         0.         0.         0.        ]\n",
            " [0.         0.         0.         0.         0.         0.\n",
            "  0.         0.         0.06666667 0.39215687 0.34509805 0.34117648\n",
            "  0.34117648 0.34509805 0.34117648 0.34117648 0.33333334 0.34901962\n",
            "  0.3019608  0.4627451  0.03137255 0.         0.         0.\n",
            "  0.         0.         0.         0.        ]\n",
            " [0.         0.         0.         0.         0.         0.\n",
            "  0.         0.         0.03921569 0.3647059  0.34117648 0.34117648\n",
            "  0.34117648 0.34117648 0.34117648 0.34509805 0.34117648 0.34901962\n",
            "  0.3137255  0.40392157 0.         0.         0.         0.\n",
            "  0.         0.         0.         0.        ]\n",
            " [0.         0.         0.         0.         0.         0.\n",
            "  0.         0.         0.03529412 0.3764706  0.34117648 0.34117648\n",
            "  0.34117648 0.34117648 0.34117648 0.34509805 0.34117648 0.34509805\n",
            "  0.34117648 0.40392157 0.         0.         0.         0.\n",
            "  0.         0.         0.         0.        ]\n",
            " [0.         0.         0.         0.         0.         0.\n",
            "  0.         0.         0.04705882 0.3764706  0.33333334 0.34117648\n",
            "  0.34117648 0.34117648 0.33333334 0.34117648 0.34117648 0.34509805\n",
            "  0.34901962 0.39215687 0.00784314 0.         0.         0.\n",
            "  0.         0.         0.         0.        ]\n",
            " [0.         0.         0.         0.         0.         0.\n",
            "  0.         0.         0.07843138 0.37254903 0.32941177 0.34509805\n",
            "  0.33333334 0.34117648 0.34509805 0.34509805 0.34509805 0.34901962\n",
            "  0.34509805 0.3882353  0.03137255 0.         0.         0.\n",
            "  0.         0.         0.         0.        ]\n",
            " [0.         0.         0.         0.         0.         0.\n",
            "  0.         0.         0.08235294 0.3764706  0.33333334 0.34117648\n",
            "  0.33333334 0.34509805 0.34509805 0.34509805 0.34509805 0.34901962\n",
            "  0.34901962 0.3882353  0.03921569 0.         0.         0.\n",
            "  0.         0.         0.         0.        ]\n",
            " [0.         0.         0.         0.         0.         0.\n",
            "  0.         0.         0.09411765 0.3764706  0.33333334 0.34117648\n",
            "  0.33333334 0.34117648 0.34509805 0.34509805 0.34901962 0.34509805\n",
            "  0.35686275 0.4        0.05490196 0.         0.         0.\n",
            "  0.         0.         0.         0.        ]\n",
            " [0.         0.         0.         0.         0.         0.\n",
            "  0.         0.         0.09803922 0.3647059  0.32941177 0.34509805\n",
            "  0.34117648 0.34117648 0.34117648 0.34117648 0.34117648 0.34901962\n",
            "  0.35686275 0.40392157 0.11372549 0.         0.         0.\n",
            "  0.         0.         0.         0.        ]\n",
            " [0.         0.         0.         0.         0.         0.\n",
            "  0.         0.         0.11764706 0.37254903 0.33333334 0.34509805\n",
            "  0.34509805 0.34117648 0.34117648 0.34117648 0.34117648 0.34901962\n",
            "  0.34509805 0.4        0.14509805 0.         0.         0.\n",
            "  0.         0.         0.         0.        ]\n",
            " [0.         0.         0.         0.         0.         0.\n",
            "  0.         0.         0.13333334 0.3764706  0.34509805 0.34117648\n",
            "  0.34117648 0.34117648 0.34117648 0.34117648 0.34117648 0.33333334\n",
            "  0.33333334 0.38039216 0.14901961 0.         0.         0.\n",
            "  0.         0.         0.         0.        ]\n",
            " [0.         0.         0.         0.         0.         0.\n",
            "  0.         0.         0.15686275 0.3764706  0.34117648 0.33333334\n",
            "  0.34117648 0.34117648 0.34117648 0.34117648 0.34117648 0.33333334\n",
            "  0.32941177 0.36078432 0.19215687 0.         0.         0.\n",
            "  0.         0.         0.         0.        ]\n",
            " [0.         0.         0.         0.         0.         0.\n",
            "  0.         0.         0.18039216 0.37254903 0.3254902  0.32941177\n",
            "  0.34117648 0.34117648 0.34117648 0.34117648 0.34117648 0.34117648\n",
            "  0.32941177 0.34117648 0.32941177 0.         0.         0.\n",
            "  0.         0.         0.         0.        ]\n",
            " [0.         0.         0.         0.         0.         0.\n",
            "  0.         0.         0.28235295 0.37254903 0.33333334 0.32941177\n",
            "  0.33333334 0.34509805 0.34117648 0.34117648 0.34901962 0.34117648\n",
            "  0.33333334 0.3254902  0.24705882 0.         0.         0.\n",
            "  0.         0.         0.         0.        ]\n",
            " [0.         0.         0.         0.         0.         0.\n",
            "  0.         0.         0.2509804  0.39215687 0.32941177 0.34117648\n",
            "  0.34509805 0.33333334 0.34509805 0.34509805 0.32941177 0.34117648\n",
            "  0.3254902  0.37254903 0.20784314 0.         0.         0.\n",
            "  0.         0.         0.         0.        ]\n",
            " [0.         0.         0.         0.         0.         0.\n",
            "  0.         0.         0.03921569 0.4        0.39215687 0.35686275\n",
            "  0.35686275 0.34901962 0.33333334 0.32941177 0.32941177 0.34117648\n",
            "  0.42352942 0.41568628 0.05490196 0.         0.         0.\n",
            "  0.         0.         0.         0.        ]\n",
            " [0.         0.         0.         0.         0.         0.\n",
            "  0.         0.         0.         0.03137255 0.28627452 0.3647059\n",
            "  0.40784314 0.41960785 0.40392157 0.40392157 0.41568628 0.4\n",
            "  0.29411766 0.03921569 0.         0.         0.         0.\n",
            "  0.         0.         0.         0.        ]\n",
            " [0.         0.         0.         0.         0.         0.\n",
            "  0.         0.         0.00392157 0.         0.         0.\n",
            "  0.07058824 0.16470589 0.22352941 0.21960784 0.1254902  0.03137255\n",
            "  0.         0.         0.00392157 0.         0.         0.\n",
            "  0.         0.         0.         0.        ]]\n"
          ],
          "name": "stdout"
        }
      ]
    },
    {
      "cell_type": "code",
      "metadata": {
        "id": "0CqMiiK_C4JY"
      },
      "source": [
        "train_images = np.array(train_images)\n",
        "train_labels = np.array(train_labels)\n",
        "train_images = train_images.astype('float32')\n",
        "train_labels = train_labels.astype('float32')\n",
        "train_images /= 255\n",
        "train_labels /= 255"
      ],
      "execution_count": 119,
      "outputs": []
    },
    {
      "cell_type": "code",
      "metadata": {
        "colab": {
          "base_uri": "https://localhost:8080/"
        },
        "id": "9xRz3we3DuU9",
        "outputId": "cf1c9158-1883-418a-a21b-ef309af56c05"
      },
      "source": [
        "print(train_images.shape)\n",
        "print(train_labels.shape)"
      ],
      "execution_count": 120,
      "outputs": [
        {
          "output_type": "stream",
          "text": [
            "(60000, 28, 28)\n",
            "(60000,)\n"
          ],
          "name": "stdout"
        }
      ]
    },
    {
      "cell_type": "code",
      "metadata": {
        "id": "x2n6UCbSEBhv"
      },
      "source": [
        "model = Sequential()\n",
        "model.add(Dense(128, activation='relu', input_shape =(28,28)))\n",
        "model.add(Dense(64, activation='relu',))\n",
        "model.add(Dropout(0.5))\n",
        "model.add(Dense(3, activation='softmax'))"
      ],
      "execution_count": 121,
      "outputs": []
    },
    {
      "cell_type": "code",
      "metadata": {
        "colab": {
          "base_uri": "https://localhost:8080/"
        },
        "id": "oaP_gZgiF1OR",
        "outputId": "74cec5e5-16ee-4c96-ae04-c1f7eeb05b05"
      },
      "source": [
        "model.summary()"
      ],
      "execution_count": 122,
      "outputs": [
        {
          "output_type": "stream",
          "text": [
            "Model: \"sequential_8\"\n",
            "_________________________________________________________________\n",
            "Layer (type)                 Output Shape              Param #   \n",
            "=================================================================\n",
            "dense_24 (Dense)             (None, 28, 128)           3712      \n",
            "_________________________________________________________________\n",
            "dense_25 (Dense)             (None, 28, 64)            8256      \n",
            "_________________________________________________________________\n",
            "dropout_8 (Dropout)          (None, 28, 64)            0         \n",
            "_________________________________________________________________\n",
            "dense_26 (Dense)             (None, 28, 3)             195       \n",
            "=================================================================\n",
            "Total params: 12,163\n",
            "Trainable params: 12,163\n",
            "Non-trainable params: 0\n",
            "_________________________________________________________________\n"
          ],
          "name": "stdout"
        }
      ]
    },
    {
      "cell_type": "code",
      "metadata": {
        "colab": {
          "base_uri": "https://localhost:8080/"
        },
        "id": "gFcoTyj0GKQo",
        "outputId": "f92bca86-ab6e-463a-f836-66c817d4089c"
      },
      "source": [
        "optimizer = Adam(lr=0.001)\n",
        "model.compile(optimizer, loss='categorical_crossentropy', metrics=['accuracy'])"
      ],
      "execution_count": 123,
      "outputs": [
        {
          "output_type": "stream",
          "text": [
            "/usr/local/lib/python3.7/dist-packages/tensorflow/python/keras/optimizer_v2/optimizer_v2.py:375: UserWarning: The `lr` argument is deprecated, use `learning_rate` instead.\n",
            "  \"The `lr` argument is deprecated, use `learning_rate` instead.\")\n"
          ],
          "name": "stderr"
        }
      ]
    },
    {
      "cell_type": "code",
      "metadata": {
        "colab": {
          "base_uri": "https://localhost:8080/"
        },
        "id": "rbT0VyoQJ7Ob",
        "outputId": "51be1e6f-2df3-4dca-e3cd-e8272abcda2f"
      },
      "source": [
        "print(train_images.shape)\n",
        "print(train_labels.shape)\n"
      ],
      "execution_count": 124,
      "outputs": [
        {
          "output_type": "stream",
          "text": [
            "(60000, 28, 28)\n",
            "(60000,)\n"
          ],
          "name": "stdout"
        }
      ]
    },
    {
      "cell_type": "code",
      "metadata": {
        "colab": {
          "base_uri": "https://localhost:8080/",
          "height": 740
        },
        "id": "2uhWu95YHANv",
        "outputId": "9f3b7f42-b581-4dd8-af6d-b67d4a28af67"
      },
      "source": [
        "model.fit(train_images, train_labels, epochs=5)"
      ],
      "execution_count": 125,
      "outputs": [
        {
          "output_type": "stream",
          "text": [
            "Epoch 1/5\n"
          ],
          "name": "stdout"
        },
        {
          "output_type": "error",
          "ename": "ValueError",
          "evalue": "ignored",
          "traceback": [
            "\u001b[0;31m---------------------------------------------------------------------------\u001b[0m",
            "\u001b[0;31mValueError\u001b[0m                                Traceback (most recent call last)",
            "\u001b[0;32m<ipython-input-125-b4de695e0465>\u001b[0m in \u001b[0;36m<module>\u001b[0;34m()\u001b[0m\n\u001b[0;32m----> 1\u001b[0;31m \u001b[0mmodel\u001b[0m\u001b[0;34m.\u001b[0m\u001b[0mfit\u001b[0m\u001b[0;34m(\u001b[0m\u001b[0mtrain_images\u001b[0m\u001b[0;34m,\u001b[0m \u001b[0mtrain_labels\u001b[0m\u001b[0;34m,\u001b[0m \u001b[0mepochs\u001b[0m\u001b[0;34m=\u001b[0m\u001b[0;36m5\u001b[0m\u001b[0;34m)\u001b[0m\u001b[0;34m\u001b[0m\u001b[0;34m\u001b[0m\u001b[0m\n\u001b[0m",
            "\u001b[0;32m/usr/local/lib/python3.7/dist-packages/keras/engine/training.py\u001b[0m in \u001b[0;36mfit\u001b[0;34m(self, x, y, batch_size, epochs, verbose, callbacks, validation_split, validation_data, shuffle, class_weight, sample_weight, initial_epoch, steps_per_epoch, validation_steps, validation_batch_size, validation_freq, max_queue_size, workers, use_multiprocessing)\u001b[0m\n\u001b[1;32m   1156\u001b[0m                 _r=1):\n\u001b[1;32m   1157\u001b[0m               \u001b[0mcallbacks\u001b[0m\u001b[0;34m.\u001b[0m\u001b[0mon_train_batch_begin\u001b[0m\u001b[0;34m(\u001b[0m\u001b[0mstep\u001b[0m\u001b[0;34m)\u001b[0m\u001b[0;34m\u001b[0m\u001b[0;34m\u001b[0m\u001b[0m\n\u001b[0;32m-> 1158\u001b[0;31m               \u001b[0mtmp_logs\u001b[0m \u001b[0;34m=\u001b[0m \u001b[0mself\u001b[0m\u001b[0;34m.\u001b[0m\u001b[0mtrain_function\u001b[0m\u001b[0;34m(\u001b[0m\u001b[0miterator\u001b[0m\u001b[0;34m)\u001b[0m\u001b[0;34m\u001b[0m\u001b[0;34m\u001b[0m\u001b[0m\n\u001b[0m\u001b[1;32m   1159\u001b[0m               \u001b[0;32mif\u001b[0m \u001b[0mdata_handler\u001b[0m\u001b[0;34m.\u001b[0m\u001b[0mshould_sync\u001b[0m\u001b[0;34m:\u001b[0m\u001b[0;34m\u001b[0m\u001b[0;34m\u001b[0m\u001b[0m\n\u001b[1;32m   1160\u001b[0m                 \u001b[0mcontext\u001b[0m\u001b[0;34m.\u001b[0m\u001b[0masync_wait\u001b[0m\u001b[0;34m(\u001b[0m\u001b[0;34m)\u001b[0m\u001b[0;34m\u001b[0m\u001b[0;34m\u001b[0m\u001b[0m\n",
            "\u001b[0;32m/usr/local/lib/python3.7/dist-packages/tensorflow/python/eager/def_function.py\u001b[0m in \u001b[0;36m__call__\u001b[0;34m(self, *args, **kwds)\u001b[0m\n\u001b[1;32m    887\u001b[0m \u001b[0;34m\u001b[0m\u001b[0m\n\u001b[1;32m    888\u001b[0m       \u001b[0;32mwith\u001b[0m \u001b[0mOptionalXlaContext\u001b[0m\u001b[0;34m(\u001b[0m\u001b[0mself\u001b[0m\u001b[0;34m.\u001b[0m\u001b[0m_jit_compile\u001b[0m\u001b[0;34m)\u001b[0m\u001b[0;34m:\u001b[0m\u001b[0;34m\u001b[0m\u001b[0;34m\u001b[0m\u001b[0m\n\u001b[0;32m--> 889\u001b[0;31m         \u001b[0mresult\u001b[0m \u001b[0;34m=\u001b[0m \u001b[0mself\u001b[0m\u001b[0;34m.\u001b[0m\u001b[0m_call\u001b[0m\u001b[0;34m(\u001b[0m\u001b[0;34m*\u001b[0m\u001b[0margs\u001b[0m\u001b[0;34m,\u001b[0m \u001b[0;34m**\u001b[0m\u001b[0mkwds\u001b[0m\u001b[0;34m)\u001b[0m\u001b[0;34m\u001b[0m\u001b[0;34m\u001b[0m\u001b[0m\n\u001b[0m\u001b[1;32m    890\u001b[0m \u001b[0;34m\u001b[0m\u001b[0m\n\u001b[1;32m    891\u001b[0m       \u001b[0mnew_tracing_count\u001b[0m \u001b[0;34m=\u001b[0m \u001b[0mself\u001b[0m\u001b[0;34m.\u001b[0m\u001b[0mexperimental_get_tracing_count\u001b[0m\u001b[0;34m(\u001b[0m\u001b[0;34m)\u001b[0m\u001b[0;34m\u001b[0m\u001b[0;34m\u001b[0m\u001b[0m\n",
            "\u001b[0;32m/usr/local/lib/python3.7/dist-packages/tensorflow/python/eager/def_function.py\u001b[0m in \u001b[0;36m_call\u001b[0;34m(self, *args, **kwds)\u001b[0m\n\u001b[1;32m    931\u001b[0m       \u001b[0;31m# This is the first call of __call__, so we have to initialize.\u001b[0m\u001b[0;34m\u001b[0m\u001b[0;34m\u001b[0m\u001b[0;34m\u001b[0m\u001b[0m\n\u001b[1;32m    932\u001b[0m       \u001b[0minitializers\u001b[0m \u001b[0;34m=\u001b[0m \u001b[0;34m[\u001b[0m\u001b[0;34m]\u001b[0m\u001b[0;34m\u001b[0m\u001b[0;34m\u001b[0m\u001b[0m\n\u001b[0;32m--> 933\u001b[0;31m       \u001b[0mself\u001b[0m\u001b[0;34m.\u001b[0m\u001b[0m_initialize\u001b[0m\u001b[0;34m(\u001b[0m\u001b[0margs\u001b[0m\u001b[0;34m,\u001b[0m \u001b[0mkwds\u001b[0m\u001b[0;34m,\u001b[0m \u001b[0madd_initializers_to\u001b[0m\u001b[0;34m=\u001b[0m\u001b[0minitializers\u001b[0m\u001b[0;34m)\u001b[0m\u001b[0;34m\u001b[0m\u001b[0;34m\u001b[0m\u001b[0m\n\u001b[0m\u001b[1;32m    934\u001b[0m     \u001b[0;32mfinally\u001b[0m\u001b[0;34m:\u001b[0m\u001b[0;34m\u001b[0m\u001b[0;34m\u001b[0m\u001b[0m\n\u001b[1;32m    935\u001b[0m       \u001b[0;31m# At this point we know that the initialization is complete (or less\u001b[0m\u001b[0;34m\u001b[0m\u001b[0;34m\u001b[0m\u001b[0;34m\u001b[0m\u001b[0m\n",
            "\u001b[0;32m/usr/local/lib/python3.7/dist-packages/tensorflow/python/eager/def_function.py\u001b[0m in \u001b[0;36m_initialize\u001b[0;34m(self, args, kwds, add_initializers_to)\u001b[0m\n\u001b[1;32m    762\u001b[0m     self._concrete_stateful_fn = (\n\u001b[1;32m    763\u001b[0m         self._stateful_fn._get_concrete_function_internal_garbage_collected(  # pylint: disable=protected-access\n\u001b[0;32m--> 764\u001b[0;31m             *args, **kwds))\n\u001b[0m\u001b[1;32m    765\u001b[0m \u001b[0;34m\u001b[0m\u001b[0m\n\u001b[1;32m    766\u001b[0m     \u001b[0;32mdef\u001b[0m \u001b[0minvalid_creator_scope\u001b[0m\u001b[0;34m(\u001b[0m\u001b[0;34m*\u001b[0m\u001b[0munused_args\u001b[0m\u001b[0;34m,\u001b[0m \u001b[0;34m**\u001b[0m\u001b[0munused_kwds\u001b[0m\u001b[0;34m)\u001b[0m\u001b[0;34m:\u001b[0m\u001b[0;34m\u001b[0m\u001b[0;34m\u001b[0m\u001b[0m\n",
            "\u001b[0;32m/usr/local/lib/python3.7/dist-packages/tensorflow/python/eager/function.py\u001b[0m in \u001b[0;36m_get_concrete_function_internal_garbage_collected\u001b[0;34m(self, *args, **kwargs)\u001b[0m\n\u001b[1;32m   3048\u001b[0m       \u001b[0margs\u001b[0m\u001b[0;34m,\u001b[0m \u001b[0mkwargs\u001b[0m \u001b[0;34m=\u001b[0m \u001b[0;32mNone\u001b[0m\u001b[0;34m,\u001b[0m \u001b[0;32mNone\u001b[0m\u001b[0;34m\u001b[0m\u001b[0;34m\u001b[0m\u001b[0m\n\u001b[1;32m   3049\u001b[0m     \u001b[0;32mwith\u001b[0m \u001b[0mself\u001b[0m\u001b[0;34m.\u001b[0m\u001b[0m_lock\u001b[0m\u001b[0;34m:\u001b[0m\u001b[0;34m\u001b[0m\u001b[0;34m\u001b[0m\u001b[0m\n\u001b[0;32m-> 3050\u001b[0;31m       \u001b[0mgraph_function\u001b[0m\u001b[0;34m,\u001b[0m \u001b[0m_\u001b[0m \u001b[0;34m=\u001b[0m \u001b[0mself\u001b[0m\u001b[0;34m.\u001b[0m\u001b[0m_maybe_define_function\u001b[0m\u001b[0;34m(\u001b[0m\u001b[0margs\u001b[0m\u001b[0;34m,\u001b[0m \u001b[0mkwargs\u001b[0m\u001b[0;34m)\u001b[0m\u001b[0;34m\u001b[0m\u001b[0;34m\u001b[0m\u001b[0m\n\u001b[0m\u001b[1;32m   3051\u001b[0m     \u001b[0;32mreturn\u001b[0m \u001b[0mgraph_function\u001b[0m\u001b[0;34m\u001b[0m\u001b[0;34m\u001b[0m\u001b[0m\n\u001b[1;32m   3052\u001b[0m \u001b[0;34m\u001b[0m\u001b[0m\n",
            "\u001b[0;32m/usr/local/lib/python3.7/dist-packages/tensorflow/python/eager/function.py\u001b[0m in \u001b[0;36m_maybe_define_function\u001b[0;34m(self, args, kwargs)\u001b[0m\n\u001b[1;32m   3442\u001b[0m \u001b[0;34m\u001b[0m\u001b[0m\n\u001b[1;32m   3443\u001b[0m           \u001b[0mself\u001b[0m\u001b[0;34m.\u001b[0m\u001b[0m_function_cache\u001b[0m\u001b[0;34m.\u001b[0m\u001b[0mmissed\u001b[0m\u001b[0;34m.\u001b[0m\u001b[0madd\u001b[0m\u001b[0;34m(\u001b[0m\u001b[0mcall_context_key\u001b[0m\u001b[0;34m)\u001b[0m\u001b[0;34m\u001b[0m\u001b[0;34m\u001b[0m\u001b[0m\n\u001b[0;32m-> 3444\u001b[0;31m           \u001b[0mgraph_function\u001b[0m \u001b[0;34m=\u001b[0m \u001b[0mself\u001b[0m\u001b[0;34m.\u001b[0m\u001b[0m_create_graph_function\u001b[0m\u001b[0;34m(\u001b[0m\u001b[0margs\u001b[0m\u001b[0;34m,\u001b[0m \u001b[0mkwargs\u001b[0m\u001b[0;34m)\u001b[0m\u001b[0;34m\u001b[0m\u001b[0;34m\u001b[0m\u001b[0m\n\u001b[0m\u001b[1;32m   3445\u001b[0m           \u001b[0mself\u001b[0m\u001b[0;34m.\u001b[0m\u001b[0m_function_cache\u001b[0m\u001b[0;34m.\u001b[0m\u001b[0mprimary\u001b[0m\u001b[0;34m[\u001b[0m\u001b[0mcache_key\u001b[0m\u001b[0;34m]\u001b[0m \u001b[0;34m=\u001b[0m \u001b[0mgraph_function\u001b[0m\u001b[0;34m\u001b[0m\u001b[0;34m\u001b[0m\u001b[0m\n\u001b[1;32m   3446\u001b[0m \u001b[0;34m\u001b[0m\u001b[0m\n",
            "\u001b[0;32m/usr/local/lib/python3.7/dist-packages/tensorflow/python/eager/function.py\u001b[0m in \u001b[0;36m_create_graph_function\u001b[0;34m(self, args, kwargs, override_flat_arg_shapes)\u001b[0m\n\u001b[1;32m   3287\u001b[0m             \u001b[0marg_names\u001b[0m\u001b[0;34m=\u001b[0m\u001b[0marg_names\u001b[0m\u001b[0;34m,\u001b[0m\u001b[0;34m\u001b[0m\u001b[0;34m\u001b[0m\u001b[0m\n\u001b[1;32m   3288\u001b[0m             \u001b[0moverride_flat_arg_shapes\u001b[0m\u001b[0;34m=\u001b[0m\u001b[0moverride_flat_arg_shapes\u001b[0m\u001b[0;34m,\u001b[0m\u001b[0;34m\u001b[0m\u001b[0;34m\u001b[0m\u001b[0m\n\u001b[0;32m-> 3289\u001b[0;31m             capture_by_value=self._capture_by_value),\n\u001b[0m\u001b[1;32m   3290\u001b[0m         \u001b[0mself\u001b[0m\u001b[0;34m.\u001b[0m\u001b[0m_function_attributes\u001b[0m\u001b[0;34m,\u001b[0m\u001b[0;34m\u001b[0m\u001b[0;34m\u001b[0m\u001b[0m\n\u001b[1;32m   3291\u001b[0m         \u001b[0mfunction_spec\u001b[0m\u001b[0;34m=\u001b[0m\u001b[0mself\u001b[0m\u001b[0;34m.\u001b[0m\u001b[0mfunction_spec\u001b[0m\u001b[0;34m,\u001b[0m\u001b[0;34m\u001b[0m\u001b[0;34m\u001b[0m\u001b[0m\n",
            "\u001b[0;32m/usr/local/lib/python3.7/dist-packages/tensorflow/python/framework/func_graph.py\u001b[0m in \u001b[0;36mfunc_graph_from_py_func\u001b[0;34m(name, python_func, args, kwargs, signature, func_graph, autograph, autograph_options, add_control_dependencies, arg_names, op_return_value, collections, capture_by_value, override_flat_arg_shapes)\u001b[0m\n\u001b[1;32m    997\u001b[0m         \u001b[0m_\u001b[0m\u001b[0;34m,\u001b[0m \u001b[0moriginal_func\u001b[0m \u001b[0;34m=\u001b[0m \u001b[0mtf_decorator\u001b[0m\u001b[0;34m.\u001b[0m\u001b[0munwrap\u001b[0m\u001b[0;34m(\u001b[0m\u001b[0mpython_func\u001b[0m\u001b[0;34m)\u001b[0m\u001b[0;34m\u001b[0m\u001b[0;34m\u001b[0m\u001b[0m\n\u001b[1;32m    998\u001b[0m \u001b[0;34m\u001b[0m\u001b[0m\n\u001b[0;32m--> 999\u001b[0;31m       \u001b[0mfunc_outputs\u001b[0m \u001b[0;34m=\u001b[0m \u001b[0mpython_func\u001b[0m\u001b[0;34m(\u001b[0m\u001b[0;34m*\u001b[0m\u001b[0mfunc_args\u001b[0m\u001b[0;34m,\u001b[0m \u001b[0;34m**\u001b[0m\u001b[0mfunc_kwargs\u001b[0m\u001b[0;34m)\u001b[0m\u001b[0;34m\u001b[0m\u001b[0;34m\u001b[0m\u001b[0m\n\u001b[0m\u001b[1;32m   1000\u001b[0m \u001b[0;34m\u001b[0m\u001b[0m\n\u001b[1;32m   1001\u001b[0m       \u001b[0;31m# invariant: `func_outputs` contains only Tensors, CompositeTensors,\u001b[0m\u001b[0;34m\u001b[0m\u001b[0;34m\u001b[0m\u001b[0;34m\u001b[0m\u001b[0m\n",
            "\u001b[0;32m/usr/local/lib/python3.7/dist-packages/tensorflow/python/eager/def_function.py\u001b[0m in \u001b[0;36mwrapped_fn\u001b[0;34m(*args, **kwds)\u001b[0m\n\u001b[1;32m    670\u001b[0m         \u001b[0;31m# the function a weak reference to itself to avoid a reference cycle.\u001b[0m\u001b[0;34m\u001b[0m\u001b[0;34m\u001b[0m\u001b[0;34m\u001b[0m\u001b[0m\n\u001b[1;32m    671\u001b[0m         \u001b[0;32mwith\u001b[0m \u001b[0mOptionalXlaContext\u001b[0m\u001b[0;34m(\u001b[0m\u001b[0mcompile_with_xla\u001b[0m\u001b[0;34m)\u001b[0m\u001b[0;34m:\u001b[0m\u001b[0;34m\u001b[0m\u001b[0;34m\u001b[0m\u001b[0m\n\u001b[0;32m--> 672\u001b[0;31m           \u001b[0mout\u001b[0m \u001b[0;34m=\u001b[0m \u001b[0mweak_wrapped_fn\u001b[0m\u001b[0;34m(\u001b[0m\u001b[0;34m)\u001b[0m\u001b[0;34m.\u001b[0m\u001b[0m__wrapped__\u001b[0m\u001b[0;34m(\u001b[0m\u001b[0;34m*\u001b[0m\u001b[0margs\u001b[0m\u001b[0;34m,\u001b[0m \u001b[0;34m**\u001b[0m\u001b[0mkwds\u001b[0m\u001b[0;34m)\u001b[0m\u001b[0;34m\u001b[0m\u001b[0;34m\u001b[0m\u001b[0m\n\u001b[0m\u001b[1;32m    673\u001b[0m         \u001b[0;32mreturn\u001b[0m \u001b[0mout\u001b[0m\u001b[0;34m\u001b[0m\u001b[0;34m\u001b[0m\u001b[0m\n\u001b[1;32m    674\u001b[0m \u001b[0;34m\u001b[0m\u001b[0m\n",
            "\u001b[0;32m/usr/local/lib/python3.7/dist-packages/tensorflow/python/framework/func_graph.py\u001b[0m in \u001b[0;36mwrapper\u001b[0;34m(*args, **kwargs)\u001b[0m\n\u001b[1;32m    984\u001b[0m           \u001b[0;32mexcept\u001b[0m \u001b[0mException\u001b[0m \u001b[0;32mas\u001b[0m \u001b[0me\u001b[0m\u001b[0;34m:\u001b[0m  \u001b[0;31m# pylint:disable=broad-except\u001b[0m\u001b[0;34m\u001b[0m\u001b[0;34m\u001b[0m\u001b[0m\n\u001b[1;32m    985\u001b[0m             \u001b[0;32mif\u001b[0m \u001b[0mhasattr\u001b[0m\u001b[0;34m(\u001b[0m\u001b[0me\u001b[0m\u001b[0;34m,\u001b[0m \u001b[0;34m\"ag_error_metadata\"\u001b[0m\u001b[0;34m)\u001b[0m\u001b[0;34m:\u001b[0m\u001b[0;34m\u001b[0m\u001b[0;34m\u001b[0m\u001b[0m\n\u001b[0;32m--> 986\u001b[0;31m               \u001b[0;32mraise\u001b[0m \u001b[0me\u001b[0m\u001b[0;34m.\u001b[0m\u001b[0mag_error_metadata\u001b[0m\u001b[0;34m.\u001b[0m\u001b[0mto_exception\u001b[0m\u001b[0;34m(\u001b[0m\u001b[0me\u001b[0m\u001b[0;34m)\u001b[0m\u001b[0;34m\u001b[0m\u001b[0;34m\u001b[0m\u001b[0m\n\u001b[0m\u001b[1;32m    987\u001b[0m             \u001b[0;32melse\u001b[0m\u001b[0;34m:\u001b[0m\u001b[0;34m\u001b[0m\u001b[0;34m\u001b[0m\u001b[0m\n\u001b[1;32m    988\u001b[0m               \u001b[0;32mraise\u001b[0m\u001b[0;34m\u001b[0m\u001b[0;34m\u001b[0m\u001b[0m\n",
            "\u001b[0;31mValueError\u001b[0m: in user code:\n\n    /usr/local/lib/python3.7/dist-packages/keras/engine/training.py:830 train_function  *\n        return step_function(self, iterator)\n    /usr/local/lib/python3.7/dist-packages/keras/engine/training.py:813 run_step  *\n        outputs = model.train_step(data)\n    /usr/local/lib/python3.7/dist-packages/keras/engine/training.py:771 train_step  *\n        loss = self.compiled_loss(\n    /usr/local/lib/python3.7/dist-packages/keras/engine/compile_utils.py:201 __call__  *\n        loss_value = loss_obj(y_t, y_p, sample_weight=sw)\n    /usr/local/lib/python3.7/dist-packages/keras/losses.py:142 __call__  *\n        losses = call_fn(y_true, y_pred)\n    /usr/local/lib/python3.7/dist-packages/keras/losses.py:246 call  *\n        return ag_fn(y_true, y_pred, **self._fn_kwargs)\n    /usr/local/lib/python3.7/dist-packages/tensorflow/python/util/dispatch.py:206 wrapper  **\n        return target(*args, **kwargs)\n    /usr/local/lib/python3.7/dist-packages/keras/losses.py:1631 categorical_crossentropy\n        y_true, y_pred, from_logits=from_logits)\n    /usr/local/lib/python3.7/dist-packages/tensorflow/python/util/dispatch.py:206 wrapper\n        return target(*args, **kwargs)\n    /usr/local/lib/python3.7/dist-packages/keras/backend.py:4827 categorical_crossentropy\n        target.shape.assert_is_compatible_with(output.shape)\n    /usr/local/lib/python3.7/dist-packages/tensorflow/python/framework/tensor_shape.py:1161 assert_is_compatible_with\n        raise ValueError(\"Shapes %s and %s are incompatible\" % (self, other))\n\n    ValueError: Shapes (32, 1) and (32, 28, 3) are incompatible\n"
          ]
        }
      ]
    },
    {
      "cell_type": "code",
      "metadata": {
        "id": "H1suYoLIHJ-Q"
      },
      "source": [
        ""
      ],
      "execution_count": null,
      "outputs": []
    }
  ]
}