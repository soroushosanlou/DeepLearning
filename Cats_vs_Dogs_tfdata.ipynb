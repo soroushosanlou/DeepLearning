{
  "nbformat": 4,
  "nbformat_minor": 0,
  "metadata": {
    "colab": {
      "name": "Cats_vs_Dogs_tfdata.ipynb",
      "provenance": [],
      "collapsed_sections": [],
      "authorship_tag": "ABX9TyMylzbhGAZseKDu7deeU0wx",
      "include_colab_link": true
    },
    "kernelspec": {
      "name": "python3",
      "display_name": "Python 3"
    },
    "language_info": {
      "name": "python"
    },
    "accelerator": "GPU"
  },
  "cells": [
    {
      "cell_type": "markdown",
      "metadata": {
        "id": "view-in-github",
        "colab_type": "text"
      },
      "source": [
        "<a href=\"https://colab.research.google.com/github/soroushosanlou/DeepLearning/blob/main/Cats_vs_Dogs_tfdata.ipynb\" target=\"_parent\"><img src=\"https://colab.research.google.com/assets/colab-badge.svg\" alt=\"Open In Colab\"/></a>"
      ]
    },
    {
      "cell_type": "code",
      "metadata": {
        "id": "ZhJMZ3g0ChV_",
        "colab": {
          "base_uri": "https://localhost:8080/"
        },
        "outputId": "9ffedd50-d54c-490b-f556-9908a2f7dceb"
      },
      "source": [
        "import tensorflow as tf\n",
        "import os\n",
        "import tensorflow as tf\n",
        "import os\n",
        "import numpy as np\n",
        "import matplotlib.pyplot as plt\n",
        "import pathlib\n",
        "_URL = 'https://storage.googleapis.com/mledu-datasets/cats_and_dogs_filtered.zip'\n",
        "\n",
        "path_to_zip = tf.keras.utils.get_file('cats_and_dogs.zip', origin=_URL, extract=True)\n",
        "\n",
        "PATH = os.path.join(os.path.dirname(path_to_zip), 'cats_and_dogs_filtered')\n",
        "\n",
        "train_dir =  \"/root/.keras/datasets/cats_and_dogs_filtered/train\"\n",
        "validation_dir = \"/root/.keras/datasets/cats_and_dogs_filtered/validation\"\n"
      ],
      "execution_count": null,
      "outputs": [
        {
          "output_type": "stream",
          "text": [
            "Downloading data from https://storage.googleapis.com/mledu-datasets/cats_and_dogs_filtered.zip\n",
            "68608000/68606236 [==============================] - 1s 0us/step\n"
          ],
          "name": "stdout"
        }
      ]
    },
    {
      "cell_type": "code",
      "metadata": {
        "id": "NjVuI0_xC57R"
      },
      "source": [
        "def augment_data(image):\n",
        "    image = tf.image.resize_with_crop_or_pad(image, 180, 180) \n",
        "    image = tf.image.random_crop(image, size=[150, 150, 3])\n",
        "    image = tf.image.random_brightness(image, max_delta=0.5)\n",
        "\n",
        "    return image"
      ],
      "execution_count": null,
      "outputs": []
    },
    {
      "cell_type": "code",
      "metadata": {
        "colab": {
          "base_uri": "https://localhost:8080/",
          "height": 35
        },
        "id": "v3jUnofJC7L-",
        "outputId": "6c26b039-8be3-4187-b241-b72d77359fdb"
      },
      "source": [
        "train_dir"
      ],
      "execution_count": null,
      "outputs": [
        {
          "output_type": "execute_result",
          "data": {
            "application/vnd.google.colaboratory.intrinsic+json": {
              "type": "string"
            },
            "text/plain": [
              "'/root/.keras/datasets/cats_and_dogs_filtered/train'"
            ]
          },
          "metadata": {
            "tags": []
          },
          "execution_count": 3
        }
      ]
    },
    {
      "cell_type": "code",
      "metadata": {
        "colab": {
          "base_uri": "https://localhost:8080/"
        },
        "id": "_WFYf7ozC8oG",
        "outputId": "bf1331ba-4ce2-48b0-fcc7-5d2d373a459e"
      },
      "source": [
        "!ls /root/.keras/datasets/cats_and_dogs_filtered/train"
      ],
      "execution_count": null,
      "outputs": [
        {
          "output_type": "stream",
          "text": [
            "cats  dogs\n"
          ],
          "name": "stdout"
        }
      ]
    },
    {
      "cell_type": "code",
      "metadata": {
        "colab": {
          "base_uri": "https://localhost:8080/",
          "height": 35
        },
        "id": "0lC5j8QiC-Ml",
        "outputId": "1d4c037a-8e46-4fa3-d58d-9576974542b0"
      },
      "source": [
        "validation_dir"
      ],
      "execution_count": null,
      "outputs": [
        {
          "output_type": "execute_result",
          "data": {
            "application/vnd.google.colaboratory.intrinsic+json": {
              "type": "string"
            },
            "text/plain": [
              "'/root/.keras/datasets/cats_and_dogs_filtered/validation'"
            ]
          },
          "metadata": {
            "tags": []
          },
          "execution_count": 5
        }
      ]
    },
    {
      "cell_type": "code",
      "metadata": {
        "colab": {
          "base_uri": "https://localhost:8080/"
        },
        "id": "BlEHvfQnC_pK",
        "outputId": "380bb9c4-b253-426a-eefc-eda824cd2f46"
      },
      "source": [
        "! ls /root/.keras/datasets/cats_and_dogs_filtered/validation"
      ],
      "execution_count": null,
      "outputs": [
        {
          "output_type": "stream",
          "text": [
            "cats  dogs\n"
          ],
          "name": "stdout"
        }
      ]
    },
    {
      "cell_type": "code",
      "metadata": {
        "id": "KHChEUuKDBdw"
      },
      "source": [
        "train_dir = pathlib.Path(train_dir)          #ساخت پوشه آموزش با کتابخانه پت لیب"
      ],
      "execution_count": null,
      "outputs": []
    },
    {
      "cell_type": "code",
      "metadata": {
        "id": "qkbXePEIDFwg"
      },
      "source": [
        "CLASS_NAMES = np.array([item.name for item in train_dir.glob('*')]) "
      ],
      "execution_count": null,
      "outputs": []
    },
    {
      "cell_type": "code",
      "metadata": {
        "colab": {
          "base_uri": "https://localhost:8080/"
        },
        "id": "bI09tOzdDHXs",
        "outputId": "d06e9ade-e058-42ad-af0a-0e88be6032e1"
      },
      "source": [
        "CLASS_NAMES"
      ],
      "execution_count": null,
      "outputs": [
        {
          "output_type": "execute_result",
          "data": {
            "text/plain": [
              "array(['dogs', 'cats'], dtype='<U4')"
            ]
          },
          "metadata": {
            "tags": []
          },
          "execution_count": 10
        }
      ]
    },
    {
      "cell_type": "code",
      "metadata": {
        "id": "-nwASmRpDix1"
      },
      "source": [
        "full_dataset = tf.data.Dataset.list_files(str(train_dir/'*/*'))  \n"
      ],
      "execution_count": null,
      "outputs": []
    },
    {
      "cell_type": "code",
      "metadata": {
        "colab": {
          "base_uri": "https://localhost:8080/"
        },
        "id": "ynlk0dUIDkUj",
        "outputId": "031910d2-82af-453e-abd2-586d5bf205af"
      },
      "source": [
        "for i in full_dataset.take(10):\n",
        "  print(i)"
      ],
      "execution_count": null,
      "outputs": [
        {
          "output_type": "stream",
          "text": [
            "tf.Tensor(b'/root/.keras/datasets/cats_and_dogs_filtered/train/dogs/dog.977.jpg', shape=(), dtype=string)\n",
            "tf.Tensor(b'/root/.keras/datasets/cats_and_dogs_filtered/train/dogs/dog.295.jpg', shape=(), dtype=string)\n",
            "tf.Tensor(b'/root/.keras/datasets/cats_and_dogs_filtered/train/dogs/dog.344.jpg', shape=(), dtype=string)\n",
            "tf.Tensor(b'/root/.keras/datasets/cats_and_dogs_filtered/train/dogs/dog.595.jpg', shape=(), dtype=string)\n",
            "tf.Tensor(b'/root/.keras/datasets/cats_and_dogs_filtered/train/dogs/dog.629.jpg', shape=(), dtype=string)\n",
            "tf.Tensor(b'/root/.keras/datasets/cats_and_dogs_filtered/train/dogs/dog.482.jpg', shape=(), dtype=string)\n",
            "tf.Tensor(b'/root/.keras/datasets/cats_and_dogs_filtered/train/dogs/dog.770.jpg', shape=(), dtype=string)\n",
            "tf.Tensor(b'/root/.keras/datasets/cats_and_dogs_filtered/train/cats/cat.38.jpg', shape=(), dtype=string)\n",
            "tf.Tensor(b'/root/.keras/datasets/cats_and_dogs_filtered/train/dogs/dog.372.jpg', shape=(), dtype=string)\n",
            "tf.Tensor(b'/root/.keras/datasets/cats_and_dogs_filtered/train/cats/cat.104.jpg', shape=(), dtype=string)\n"
          ],
          "name": "stdout"
        }
      ]
    },
    {
      "cell_type": "code",
      "metadata": {
        "id": "oZGxI3BVDnON"
      },
      "source": [
        "validation_split = 0.2            "
      ],
      "execution_count": null,
      "outputs": []
    },
    {
      "cell_type": "code",
      "metadata": {
        "colab": {
          "base_uri": "https://localhost:8080/"
        },
        "id": "KHUyMA6SDpG-",
        "outputId": "5a6a5715-b3ad-4991-e12a-032a88c4d026"
      },
      "source": [
        "DATASET_SIZE = len(list(full_dataset))        \n",
        "print(\"Dataset size: \", DATASET_SIZE)\n",
        "train_size = int((1-validation_split) * DATASET_SIZE)     \n",
        "print(\"train size: \", train_size)\n",
        "train_dataset = full_dataset.take(train_size)   \n",
        "validation_dataset = full_dataset.skip(train_size) \n",
        "print(\"Validation size: \", len(validation_dataset))"
      ],
      "execution_count": null,
      "outputs": [
        {
          "output_type": "stream",
          "text": [
            "Dataset size:  2000\n",
            "train size:  1600\n",
            "Validation size:  400\n"
          ],
          "name": "stdout"
        }
      ]
    },
    {
      "cell_type": "code",
      "metadata": {
        "id": "5jfGsbZNDqu8"
      },
      "source": [
        "def get_label(file_path):           \n",
        "  parts = tf.strings.split(file_path, os.path.sep)      \n",
        "  return parts[-2] == CLASS_NAMES"
      ],
      "execution_count": null,
      "outputs": []
    },
    {
      "cell_type": "code",
      "metadata": {
        "colab": {
          "base_uri": "https://localhost:8080/"
        },
        "id": "71TjKHuhDsVt",
        "outputId": "8ebaeb64-3e0f-4de1-cfcc-02f81b281c3f"
      },
      "source": [
        "get_label(\"/root/.keras/datasets/cats_and_dogs_filtered/train/dogs/dog.949.jpg\").numpy()"
      ],
      "execution_count": null,
      "outputs": [
        {
          "output_type": "execute_result",
          "data": {
            "text/plain": [
              "array([ True, False])"
            ]
          },
          "metadata": {
            "tags": []
          },
          "execution_count": 19
        }
      ]
    },
    {
      "cell_type": "code",
      "metadata": {
        "id": "CJbooxOsDt-g"
      },
      "source": [
        "def load_img(image_path):\n",
        "    img = tf.io.read_file(image_path)\n",
        "    \n",
        "    img = tf.image.decode_image(img, 3, expand_animations=False)   \n",
        "                                                                                       \n",
        "    img = tf.cast(img, tf.float32)          \n",
        "    return img"
      ],
      "execution_count": null,
      "outputs": []
    },
    {
      "cell_type": "code",
      "metadata": {
        "id": "1fwZxPkCDvRg"
      },
      "source": [
        "def normalize(image):                  \n",
        "    image = (image / 127.5) - 1    \n",
        "    return image"
      ],
      "execution_count": null,
      "outputs": []
    },
    {
      "cell_type": "code",
      "metadata": {
        "id": "Ym_9HndtDw1I"
      },
      "source": [
        "def resize(image,height, width):\n",
        "    image = tf.image.resize(image, (height, width),\n",
        "                                 method=tf.image.ResizeMethod.NEAREST_NEIGHBOR)\n",
        "    return image"
      ],
      "execution_count": null,
      "outputs": []
    },
    {
      "cell_type": "code",
      "metadata": {
        "id": "ZgHSJUqnDyY1"
      },
      "source": [
        "def load_image_with_label(image_path):\n",
        "    label = get_label(image_path)\n",
        "    img = load_img(image_path)\n",
        "    return img, label"
      ],
      "execution_count": null,
      "outputs": []
    },
    {
      "cell_type": "code",
      "metadata": {
        "id": "d8mvSJzHDzjy"
      },
      "source": [
        "def load_image_train(image_file):                 \n",
        "    image, label = load_image_with_label(image_file)\n",
        "    image = augment_data(image)\n",
        "    image = normalize(image)\n",
        "    \n",
        "    return image, label"
      ],
      "execution_count": null,
      "outputs": []
    },
    {
      "cell_type": "code",
      "metadata": {
        "id": "b0uSFHE1D0rk"
      },
      "source": [
        "def load_image_test(image_file):\n",
        "    image, label = load_image_with_label(image_file)\n",
        "    image = resize(image, 150, 150)\n",
        "    image = normalize(image)\n",
        "\n",
        "    return image, label"
      ],
      "execution_count": null,
      "outputs": []
    },
    {
      "cell_type": "code",
      "metadata": {
        "id": "96jcBqqID2Gv"
      },
      "source": [
        "BATCH_SIZE = 32\n",
        "SHUFFLE_BUFFER_SIZE = 1000"
      ],
      "execution_count": null,
      "outputs": []
    },
    {
      "cell_type": "code",
      "metadata": {
        "id": "f_Fxq6vBGXnM"
      },
      "source": [
        "AUTOTUNE = tf.data.AUTOTUNE\n"
      ],
      "execution_count": null,
      "outputs": []
    },
    {
      "cell_type": "code",
      "metadata": {
        "id": "uYEg-yQVD3sE"
      },
      "source": [
        "train_dataset = train_dataset.cache().prefetch(buffer_size=AUTOTUNE)\n",
        "validation_dataset = validation_dataset.cache().prefetch(buffer_size=AUTOTUNE)\n"
      ],
      "execution_count": null,
      "outputs": []
    },
    {
      "cell_type": "code",
      "metadata": {
        "id": "R5FEoZocQBpO"
      },
      "source": [
        "train_dataset = train_dataset.map(load_image_train)        \n",
        "train_dataset = train_dataset.shuffle(SHUFFLE_BUFFER_SIZE)     \n",
        "train_dataset = train_dataset.batch(BATCH_SIZE)"
      ],
      "execution_count": null,
      "outputs": []
    },
    {
      "cell_type": "code",
      "metadata": {
        "id": "MGtIu8hzWgQ0"
      },
      "source": [
        "validation_dataset = validation_dataset.map(load_image_test)\n",
        "validation_dataset = validation_dataset.batch(BATCH_SIZE)"
      ],
      "execution_count": null,
      "outputs": []
    },
    {
      "cell_type": "code",
      "metadata": {
        "colab": {
          "base_uri": "https://localhost:8080/"
        },
        "id": "PVwG2234X0VE",
        "outputId": "484e09bb-5e7a-4e67-a296-356cb05776fa"
      },
      "source": [
        "base_model = tf.keras.applications.VGG16(weights='imagenet',\n",
        "                  include_top=False,\n",
        "                  input_shape=(150, 150, 3))"
      ],
      "execution_count": null,
      "outputs": [
        {
          "output_type": "stream",
          "text": [
            "Downloading data from https://storage.googleapis.com/tensorflow/keras-applications/vgg16/vgg16_weights_tf_dim_ordering_tf_kernels_notop.h5\n",
            "58892288/58889256 [==============================] - 1s 0us/step\n"
          ],
          "name": "stdout"
        }
      ]
    },
    {
      "cell_type": "code",
      "metadata": {
        "id": "BlIA4MKEX2IN"
      },
      "source": [
        "base_model.trainable = False        "
      ],
      "execution_count": null,
      "outputs": []
    },
    {
      "cell_type": "code",
      "metadata": {
        "colab": {
          "base_uri": "https://localhost:8080/"
        },
        "id": "ODJAOQqAX50X",
        "outputId": "c8b0fa9b-e693-4cb6-97da-b7b296e5f76c"
      },
      "source": [
        "n_class =len(CLASS_NAMES)\n",
        "n_class"
      ],
      "execution_count": null,
      "outputs": [
        {
          "output_type": "execute_result",
          "data": {
            "text/plain": [
              "2"
            ]
          },
          "metadata": {
            "tags": []
          },
          "execution_count": 33
        }
      ]
    },
    {
      "cell_type": "code",
      "metadata": {
        "id": "34sjwn2DYBLz"
      },
      "source": [
        "flatten_layer = tf.keras.layers.GlobalAveragePooling2D()\n",
        "dense_layer = tf.keras.layers.Dense(100, activation='relu')\n",
        "dropout_layer = tf.keras.layers.Dropout(0.5)\n",
        "prediction_layer = tf.keras.layers.Dense(n_class, activation='sigmoid')"
      ],
      "execution_count": null,
      "outputs": []
    },
    {
      "cell_type": "code",
      "metadata": {
        "id": "uXva-cnVYCwm"
      },
      "source": [
        "model = tf.keras.Sequential([\n",
        "  base_model,\n",
        "  flatten_layer,\n",
        "  dense_layer,\n",
        "  dropout_layer,\n",
        "  prediction_layer\n",
        "])"
      ],
      "execution_count": null,
      "outputs": []
    },
    {
      "cell_type": "code",
      "metadata": {
        "colab": {
          "base_uri": "https://localhost:8080/"
        },
        "id": "UUSt-lPqYEhY",
        "outputId": "ca8f40c2-3745-4484-d6fd-eefd8d7e29f5"
      },
      "source": [
        "model.compile(optimizer=tf.keras.optimizers.RMSprop(lr=0.01),\n",
        "              loss=tf.keras.losses.categorical_crossentropy,\n",
        "              metrics=['accuracy'])"
      ],
      "execution_count": null,
      "outputs": [
        {
          "output_type": "stream",
          "text": [
            "/usr/local/lib/python3.7/dist-packages/tensorflow/python/keras/optimizer_v2/optimizer_v2.py:375: UserWarning: The `lr` argument is deprecated, use `learning_rate` instead.\n",
            "  \"The `lr` argument is deprecated, use `learning_rate` instead.\")\n"
          ],
          "name": "stderr"
        }
      ]
    },
    {
      "cell_type": "code",
      "metadata": {
        "colab": {
          "base_uri": "https://localhost:8080/"
        },
        "id": "c6aLrpAaYMUE",
        "outputId": "19183fc3-4475-4a23-fb88-d8b96106ffbb"
      },
      "source": [
        "history = model.fit(train_dataset,\n",
        "                    epochs=100,\n",
        "                    validation_data=validation_dataset)"
      ],
      "execution_count": null,
      "outputs": [
        {
          "output_type": "stream",
          "text": [
            "Epoch 1/100\n",
            "50/50 [==============================] - 45s 167ms/step - loss: 0.7597 - accuracy: 0.7219 - val_loss: 0.4048 - val_accuracy: 0.8325\n",
            "Epoch 2/100\n",
            "50/50 [==============================] - 10s 134ms/step - loss: 0.3742 - accuracy: 0.8238 - val_loss: 0.3399 - val_accuracy: 0.8625\n",
            "Epoch 3/100\n",
            "50/50 [==============================] - 10s 137ms/step - loss: 0.3534 - accuracy: 0.8356 - val_loss: 0.2977 - val_accuracy: 0.8825\n",
            "Epoch 4/100\n",
            "50/50 [==============================] - 10s 135ms/step - loss: 0.3057 - accuracy: 0.8587 - val_loss: 0.4550 - val_accuracy: 0.8375\n",
            "Epoch 5/100\n",
            "50/50 [==============================] - 10s 137ms/step - loss: 0.3140 - accuracy: 0.8500 - val_loss: 0.6954 - val_accuracy: 0.7400\n",
            "Epoch 6/100\n",
            "50/50 [==============================] - 10s 133ms/step - loss: 0.3015 - accuracy: 0.8669 - val_loss: 0.3454 - val_accuracy: 0.8775\n",
            "Epoch 7/100\n",
            "50/50 [==============================] - 10s 134ms/step - loss: 0.2829 - accuracy: 0.8581 - val_loss: 0.4985 - val_accuracy: 0.8650\n",
            "Epoch 8/100\n",
            "50/50 [==============================] - 10s 135ms/step - loss: 0.2711 - accuracy: 0.8756 - val_loss: 0.2555 - val_accuracy: 0.9000\n",
            "Epoch 9/100\n",
            "50/50 [==============================] - 10s 137ms/step - loss: 0.2770 - accuracy: 0.8775 - val_loss: 0.3284 - val_accuracy: 0.9050\n",
            "Epoch 10/100\n",
            "50/50 [==============================] - 10s 137ms/step - loss: 0.2583 - accuracy: 0.8831 - val_loss: 0.3314 - val_accuracy: 0.8925\n",
            "Epoch 11/100\n",
            "50/50 [==============================] - 10s 134ms/step - loss: 0.2666 - accuracy: 0.8769 - val_loss: 0.3159 - val_accuracy: 0.8975\n",
            "Epoch 12/100\n",
            "50/50 [==============================] - 10s 137ms/step - loss: 0.2422 - accuracy: 0.8950 - val_loss: 0.3803 - val_accuracy: 0.8825\n",
            "Epoch 13/100\n",
            "50/50 [==============================] - 10s 134ms/step - loss: 0.2742 - accuracy: 0.8781 - val_loss: 0.4379 - val_accuracy: 0.8975\n",
            "Epoch 14/100\n",
            "50/50 [==============================] - 10s 137ms/step - loss: 0.2500 - accuracy: 0.8944 - val_loss: 0.4329 - val_accuracy: 0.8825\n",
            "Epoch 15/100\n",
            "50/50 [==============================] - 11s 138ms/step - loss: 0.2301 - accuracy: 0.9000 - val_loss: 0.3404 - val_accuracy: 0.8950\n",
            "Epoch 16/100\n",
            "50/50 [==============================] - 10s 137ms/step - loss: 0.2399 - accuracy: 0.8919 - val_loss: 0.3202 - val_accuracy: 0.9025\n",
            "Epoch 17/100\n",
            "50/50 [==============================] - 10s 135ms/step - loss: 0.2297 - accuracy: 0.9044 - val_loss: 0.6059 - val_accuracy: 0.8725\n",
            "Epoch 18/100\n",
            "50/50 [==============================] - 10s 136ms/step - loss: 0.2241 - accuracy: 0.8944 - val_loss: 0.5679 - val_accuracy: 0.8800\n",
            "Epoch 19/100\n",
            "50/50 [==============================] - 10s 137ms/step - loss: 0.2290 - accuracy: 0.9000 - val_loss: 0.4327 - val_accuracy: 0.9050\n",
            "Epoch 20/100\n",
            "50/50 [==============================] - 10s 138ms/step - loss: 0.2352 - accuracy: 0.8975 - val_loss: 0.4743 - val_accuracy: 0.8875\n",
            "Epoch 21/100\n",
            "50/50 [==============================] - 10s 139ms/step - loss: 0.2297 - accuracy: 0.9038 - val_loss: 0.3369 - val_accuracy: 0.9050\n",
            "Epoch 22/100\n",
            "50/50 [==============================] - 10s 136ms/step - loss: 0.2160 - accuracy: 0.9075 - val_loss: 0.3347 - val_accuracy: 0.8800\n",
            "Epoch 23/100\n",
            "50/50 [==============================] - 10s 137ms/step - loss: 0.2016 - accuracy: 0.9112 - val_loss: 0.3876 - val_accuracy: 0.8925\n",
            "Epoch 24/100\n",
            "50/50 [==============================] - 10s 136ms/step - loss: 0.2168 - accuracy: 0.9013 - val_loss: 0.4962 - val_accuracy: 0.8975\n",
            "Epoch 25/100\n",
            "50/50 [==============================] - 10s 136ms/step - loss: 0.1994 - accuracy: 0.9106 - val_loss: 0.3462 - val_accuracy: 0.9050\n",
            "Epoch 26/100\n",
            "50/50 [==============================] - 10s 136ms/step - loss: 0.2116 - accuracy: 0.9044 - val_loss: 0.4745 - val_accuracy: 0.8900\n",
            "Epoch 27/100\n",
            "50/50 [==============================] - 10s 137ms/step - loss: 0.1999 - accuracy: 0.9013 - val_loss: 0.4807 - val_accuracy: 0.8950\n",
            "Epoch 28/100\n",
            "50/50 [==============================] - 10s 134ms/step - loss: 0.2274 - accuracy: 0.9038 - val_loss: 0.4940 - val_accuracy: 0.9000\n",
            "Epoch 29/100\n",
            "50/50 [==============================] - 10s 136ms/step - loss: 0.2161 - accuracy: 0.9013 - val_loss: 0.4286 - val_accuracy: 0.8975\n",
            "Epoch 30/100\n",
            "50/50 [==============================] - 10s 136ms/step - loss: 0.2068 - accuracy: 0.9187 - val_loss: 0.4729 - val_accuracy: 0.8925\n",
            "Epoch 31/100\n",
            "50/50 [==============================] - 10s 136ms/step - loss: 0.1955 - accuracy: 0.9162 - val_loss: 0.4481 - val_accuracy: 0.9025\n",
            "Epoch 32/100\n",
            "50/50 [==============================] - 10s 136ms/step - loss: 0.2125 - accuracy: 0.9069 - val_loss: 0.4854 - val_accuracy: 0.9000\n",
            "Epoch 33/100\n",
            "50/50 [==============================] - 10s 135ms/step - loss: 0.1885 - accuracy: 0.9181 - val_loss: 0.4857 - val_accuracy: 0.8925\n",
            "Epoch 34/100\n",
            "50/50 [==============================] - 10s 135ms/step - loss: 0.2220 - accuracy: 0.9187 - val_loss: 0.6719 - val_accuracy: 0.8750\n",
            "Epoch 35/100\n",
            "50/50 [==============================] - 10s 136ms/step - loss: 0.1946 - accuracy: 0.9219 - val_loss: 0.5065 - val_accuracy: 0.8975\n",
            "Epoch 36/100\n",
            "50/50 [==============================] - 10s 137ms/step - loss: 0.1984 - accuracy: 0.9200 - val_loss: 0.4673 - val_accuracy: 0.8975\n",
            "Epoch 37/100\n",
            "50/50 [==============================] - 10s 138ms/step - loss: 0.2012 - accuracy: 0.9125 - val_loss: 0.4474 - val_accuracy: 0.8950\n",
            "Epoch 38/100\n",
            "50/50 [==============================] - 10s 135ms/step - loss: 0.2036 - accuracy: 0.9150 - val_loss: 0.4472 - val_accuracy: 0.9025\n",
            "Epoch 39/100\n",
            "50/50 [==============================] - 10s 137ms/step - loss: 0.1950 - accuracy: 0.9219 - val_loss: 0.5366 - val_accuracy: 0.8925\n",
            "Epoch 40/100\n",
            "50/50 [==============================] - 10s 136ms/step - loss: 0.1697 - accuracy: 0.9237 - val_loss: 0.6348 - val_accuracy: 0.8775\n",
            "Epoch 41/100\n",
            "50/50 [==============================] - 10s 137ms/step - loss: 0.1650 - accuracy: 0.9219 - val_loss: 0.4850 - val_accuracy: 0.9075\n",
            "Epoch 42/100\n",
            "50/50 [==============================] - 10s 137ms/step - loss: 0.1807 - accuracy: 0.9262 - val_loss: 0.5212 - val_accuracy: 0.9075\n",
            "Epoch 43/100\n",
            "50/50 [==============================] - 10s 137ms/step - loss: 0.1827 - accuracy: 0.9237 - val_loss: 0.4473 - val_accuracy: 0.9000\n",
            "Epoch 44/100\n",
            "50/50 [==============================] - 10s 137ms/step - loss: 0.1655 - accuracy: 0.9275 - val_loss: 0.5566 - val_accuracy: 0.9000\n",
            "Epoch 45/100\n",
            "50/50 [==============================] - 10s 137ms/step - loss: 0.1805 - accuracy: 0.9250 - val_loss: 0.5510 - val_accuracy: 0.8975\n",
            "Epoch 46/100\n",
            "50/50 [==============================] - 10s 136ms/step - loss: 0.2031 - accuracy: 0.9237 - val_loss: 0.4711 - val_accuracy: 0.9025\n",
            "Epoch 47/100\n",
            "50/50 [==============================] - 10s 138ms/step - loss: 0.1656 - accuracy: 0.9275 - val_loss: 0.5490 - val_accuracy: 0.9025\n",
            "Epoch 48/100\n",
            "50/50 [==============================] - 10s 135ms/step - loss: 0.1767 - accuracy: 0.9269 - val_loss: 0.8886 - val_accuracy: 0.8800\n",
            "Epoch 49/100\n",
            "50/50 [==============================] - 10s 138ms/step - loss: 0.1629 - accuracy: 0.9362 - val_loss: 0.5845 - val_accuracy: 0.9050\n",
            "Epoch 50/100\n",
            "50/50 [==============================] - 10s 138ms/step - loss: 0.1424 - accuracy: 0.9319 - val_loss: 0.5909 - val_accuracy: 0.9050\n",
            "Epoch 51/100\n",
            "50/50 [==============================] - 10s 138ms/step - loss: 0.1820 - accuracy: 0.9187 - val_loss: 0.6882 - val_accuracy: 0.9025\n",
            "Epoch 52/100\n",
            "50/50 [==============================] - 10s 137ms/step - loss: 0.1568 - accuracy: 0.9256 - val_loss: 0.6322 - val_accuracy: 0.9025\n",
            "Epoch 53/100\n",
            "50/50 [==============================] - 10s 137ms/step - loss: 0.1649 - accuracy: 0.9287 - val_loss: 0.7598 - val_accuracy: 0.8825\n",
            "Epoch 54/100\n",
            "50/50 [==============================] - 10s 137ms/step - loss: 0.1895 - accuracy: 0.9262 - val_loss: 0.5717 - val_accuracy: 0.8975\n",
            "Epoch 55/100\n",
            "50/50 [==============================] - 10s 136ms/step - loss: 0.1834 - accuracy: 0.9287 - val_loss: 0.7633 - val_accuracy: 0.8900\n",
            "Epoch 56/100\n",
            "50/50 [==============================] - 10s 135ms/step - loss: 0.1535 - accuracy: 0.9331 - val_loss: 0.6564 - val_accuracy: 0.9100\n",
            "Epoch 57/100\n",
            "50/50 [==============================] - 10s 137ms/step - loss: 0.1798 - accuracy: 0.9294 - val_loss: 0.9031 - val_accuracy: 0.8900\n",
            "Epoch 58/100\n",
            "50/50 [==============================] - 10s 138ms/step - loss: 0.1640 - accuracy: 0.9350 - val_loss: 0.6501 - val_accuracy: 0.9050\n",
            "Epoch 59/100\n",
            "50/50 [==============================] - 10s 137ms/step - loss: 0.1662 - accuracy: 0.9337 - val_loss: 0.5730 - val_accuracy: 0.9100\n",
            "Epoch 60/100\n",
            "50/50 [==============================] - 10s 137ms/step - loss: 0.1530 - accuracy: 0.9337 - val_loss: 0.7016 - val_accuracy: 0.9075\n",
            "Epoch 61/100\n",
            "50/50 [==============================] - 10s 138ms/step - loss: 0.1479 - accuracy: 0.9337 - val_loss: 0.6853 - val_accuracy: 0.9025\n",
            "Epoch 62/100\n",
            "50/50 [==============================] - 10s 137ms/step - loss: 0.1466 - accuracy: 0.9381 - val_loss: 0.7284 - val_accuracy: 0.9025\n",
            "Epoch 63/100\n",
            "50/50 [==============================] - 10s 136ms/step - loss: 0.1648 - accuracy: 0.9287 - val_loss: 0.7412 - val_accuracy: 0.8975\n",
            "Epoch 64/100\n",
            "50/50 [==============================] - 10s 136ms/step - loss: 0.1655 - accuracy: 0.9356 - val_loss: 0.8370 - val_accuracy: 0.9100\n",
            "Epoch 65/100\n",
            "50/50 [==============================] - 10s 136ms/step - loss: 0.1716 - accuracy: 0.9256 - val_loss: 1.0270 - val_accuracy: 0.9225\n",
            "Epoch 66/100\n",
            "50/50 [==============================] - 10s 138ms/step - loss: 0.1713 - accuracy: 0.9300 - val_loss: 0.9024 - val_accuracy: 0.8925\n",
            "Epoch 67/100\n",
            "50/50 [==============================] - 10s 136ms/step - loss: 0.1524 - accuracy: 0.9287 - val_loss: 0.8227 - val_accuracy: 0.8950\n",
            "Epoch 68/100\n",
            "50/50 [==============================] - 10s 136ms/step - loss: 0.1807 - accuracy: 0.9325 - val_loss: 0.5960 - val_accuracy: 0.9100\n",
            "Epoch 69/100\n",
            "50/50 [==============================] - 11s 140ms/step - loss: 0.1427 - accuracy: 0.9356 - val_loss: 0.8296 - val_accuracy: 0.8875\n",
            "Epoch 70/100\n",
            "50/50 [==============================] - 11s 138ms/step - loss: 0.1420 - accuracy: 0.9431 - val_loss: 0.5774 - val_accuracy: 0.9200\n",
            "Epoch 71/100\n",
            "50/50 [==============================] - 11s 140ms/step - loss: 0.1831 - accuracy: 0.9356 - val_loss: 0.9856 - val_accuracy: 0.8925\n",
            "Epoch 72/100\n",
            "50/50 [==============================] - 10s 137ms/step - loss: 0.1654 - accuracy: 0.9431 - val_loss: 0.8861 - val_accuracy: 0.8925\n",
            "Epoch 73/100\n",
            "50/50 [==============================] - 10s 136ms/step - loss: 0.1599 - accuracy: 0.9356 - val_loss: 0.8614 - val_accuracy: 0.8550\n",
            "Epoch 74/100\n",
            "50/50 [==============================] - 10s 138ms/step - loss: 0.1462 - accuracy: 0.9394 - val_loss: 0.8318 - val_accuracy: 0.9150\n",
            "Epoch 75/100\n",
            "50/50 [==============================] - 10s 138ms/step - loss: 0.1658 - accuracy: 0.9406 - val_loss: 0.9954 - val_accuracy: 0.8700\n",
            "Epoch 76/100\n",
            "50/50 [==============================] - 10s 138ms/step - loss: 0.1471 - accuracy: 0.9406 - val_loss: 0.7006 - val_accuracy: 0.9100\n",
            "Epoch 77/100\n",
            "50/50 [==============================] - 10s 138ms/step - loss: 0.1462 - accuracy: 0.9388 - val_loss: 0.9832 - val_accuracy: 0.8750\n",
            "Epoch 78/100\n",
            "50/50 [==============================] - 10s 137ms/step - loss: 0.1545 - accuracy: 0.9350 - val_loss: 0.9244 - val_accuracy: 0.8850\n",
            "Epoch 79/100\n",
            "50/50 [==============================] - 10s 138ms/step - loss: 0.1380 - accuracy: 0.9450 - val_loss: 0.8175 - val_accuracy: 0.9125\n",
            "Epoch 80/100\n",
            "50/50 [==============================] - 10s 137ms/step - loss: 0.1669 - accuracy: 0.9400 - val_loss: 0.8753 - val_accuracy: 0.8900\n",
            "Epoch 81/100\n",
            "50/50 [==============================] - 10s 137ms/step - loss: 0.1599 - accuracy: 0.9306 - val_loss: 0.8701 - val_accuracy: 0.8925\n",
            "Epoch 82/100\n",
            "50/50 [==============================] - 10s 137ms/step - loss: 0.1802 - accuracy: 0.9300 - val_loss: 0.8167 - val_accuracy: 0.9075\n",
            "Epoch 83/100\n",
            "50/50 [==============================] - 10s 137ms/step - loss: 0.1524 - accuracy: 0.9456 - val_loss: 0.7511 - val_accuracy: 0.9100\n",
            "Epoch 84/100\n",
            "50/50 [==============================] - 10s 136ms/step - loss: 0.1269 - accuracy: 0.9469 - val_loss: 0.7119 - val_accuracy: 0.8975\n",
            "Epoch 85/100\n",
            "50/50 [==============================] - 10s 137ms/step - loss: 0.1453 - accuracy: 0.9438 - val_loss: 0.9373 - val_accuracy: 0.9125\n",
            "Epoch 86/100\n",
            "50/50 [==============================] - 10s 137ms/step - loss: 0.1385 - accuracy: 0.9406 - val_loss: 0.8943 - val_accuracy: 0.9125\n",
            "Epoch 87/100\n",
            "50/50 [==============================] - 10s 138ms/step - loss: 0.1569 - accuracy: 0.9463 - val_loss: 0.8004 - val_accuracy: 0.9025\n",
            "Epoch 88/100\n",
            "50/50 [==============================] - 10s 133ms/step - loss: 0.1694 - accuracy: 0.9306 - val_loss: 0.8611 - val_accuracy: 0.9075\n",
            "Epoch 89/100\n",
            "50/50 [==============================] - 10s 138ms/step - loss: 0.1327 - accuracy: 0.9456 - val_loss: 0.8827 - val_accuracy: 0.9100\n",
            "Epoch 90/100\n",
            "50/50 [==============================] - 11s 140ms/step - loss: 0.1311 - accuracy: 0.9488 - val_loss: 0.8802 - val_accuracy: 0.9050\n",
            "Epoch 91/100\n",
            "50/50 [==============================] - 10s 138ms/step - loss: 0.1549 - accuracy: 0.9469 - val_loss: 0.7874 - val_accuracy: 0.9100\n",
            "Epoch 92/100\n",
            "50/50 [==============================] - 10s 139ms/step - loss: 0.1181 - accuracy: 0.9475 - val_loss: 1.1802 - val_accuracy: 0.9050\n",
            "Epoch 93/100\n",
            "50/50 [==============================] - 11s 141ms/step - loss: 0.1424 - accuracy: 0.9444 - val_loss: 1.2796 - val_accuracy: 0.8725\n",
            "Epoch 94/100\n",
            "50/50 [==============================] - 11s 139ms/step - loss: 0.1287 - accuracy: 0.9394 - val_loss: 0.8120 - val_accuracy: 0.9075\n",
            "Epoch 95/100\n",
            "50/50 [==============================] - 11s 142ms/step - loss: 0.1483 - accuracy: 0.9431 - val_loss: 0.8019 - val_accuracy: 0.9075\n",
            "Epoch 96/100\n",
            "50/50 [==============================] - 11s 142ms/step - loss: 0.1438 - accuracy: 0.9456 - val_loss: 1.1115 - val_accuracy: 0.8925\n",
            "Epoch 97/100\n",
            "50/50 [==============================] - 11s 142ms/step - loss: 0.1245 - accuracy: 0.9500 - val_loss: 0.9418 - val_accuracy: 0.9100\n",
            "Epoch 98/100\n",
            "50/50 [==============================] - 11s 138ms/step - loss: 0.1308 - accuracy: 0.9425 - val_loss: 0.7850 - val_accuracy: 0.9050\n",
            "Epoch 99/100\n",
            "50/50 [==============================] - 11s 139ms/step - loss: 0.1692 - accuracy: 0.9300 - val_loss: 0.6967 - val_accuracy: 0.9050\n",
            "Epoch 100/100\n",
            "50/50 [==============================] - 10s 136ms/step - loss: 0.1588 - accuracy: 0.9444 - val_loss: 0.9096 - val_accuracy: 0.9000\n"
          ],
          "name": "stdout"
        }
      ]
    },
    {
      "cell_type": "code",
      "metadata": {
        "id": "bOEJr7UIY7_E"
      },
      "source": [
        ""
      ],
      "execution_count": null,
      "outputs": []
    }
  ]
}