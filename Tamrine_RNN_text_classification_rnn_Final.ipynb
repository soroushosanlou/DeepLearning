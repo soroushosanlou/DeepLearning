{
  "nbformat": 4,
  "nbformat_minor": 0,
  "metadata": {
    "colab": {
      "name": "Tamrine_RNN_text_classification_rnn_Final.ipynb",
      "provenance": [],
      "collapsed_sections": [],
      "authorship_tag": "ABX9TyOk4NoBJqs1sHt1jSG0pK/4",
      "include_colab_link": true
    },
    "kernelspec": {
      "name": "python3",
      "display_name": "Python 3"
    },
    "language_info": {
      "name": "python"
    },
    "accelerator": "GPU"
  },
  "cells": [
    {
      "cell_type": "markdown",
      "metadata": {
        "id": "view-in-github",
        "colab_type": "text"
      },
      "source": [
        "<a href=\"https://colab.research.google.com/github/soroushosanlou/DeepLearning/blob/main/Tamrine_RNN_text_classification_rnn_Final.ipynb\" target=\"_parent\"><img src=\"https://colab.research.google.com/assets/colab-badge.svg\" alt=\"Open In Colab\"/></a>"
      ]
    },
    {
      "cell_type": "code",
      "metadata": {
        "id": "1f9dAuhUmjrY"
      },
      "source": [
        "import matplotlib.pyplot as plt\n",
        "import os\n",
        "import re\n",
        "import shutil\n",
        "import string\n",
        "import tensorflow as tf\n",
        "\n",
        "from tensorflow.keras import layers\n",
        "from tensorflow.keras import losses\n",
        "from tensorflow.keras import preprocessing\n",
        "from tensorflow.keras.layers.experimental.preprocessing import TextVectorization"
      ],
      "execution_count": 12,
      "outputs": []
    },
    {
      "cell_type": "code",
      "metadata": {
        "colab": {
          "base_uri": "https://localhost:8080/"
        },
        "id": "E4yRqqCEoJ92",
        "outputId": "7e805709-538b-4591-d083-36a60e2990a6"
      },
      "source": [
        "url = \"https://ai.stanford.edu/~amaas/data/sentiment/aclImdb_v1.tar.gz\"   \n",
        "\n",
        "dataset = tf.keras.utils.get_file(\"aclImdb_v1\", url,\n",
        "                                    untar=True, cache_dir='.',\n",
        "                                    cache_subdir='')\n",
        "\n",
        "dataset_dir = os.path.join(os.path.dirname(dataset), 'aclImdb')"
      ],
      "execution_count": 13,
      "outputs": [
        {
          "output_type": "stream",
          "text": [
            "Downloading data from https://ai.stanford.edu/~amaas/data/sentiment/aclImdb_v1.tar.gz\n",
            "84131840/84125825 [==============================] - 7s 0us/step\n"
          ],
          "name": "stdout"
        }
      ]
    },
    {
      "cell_type": "code",
      "metadata": {
        "colab": {
          "base_uri": "https://localhost:8080/"
        },
        "id": "U-XuOs7HoKAn",
        "outputId": "c05accd1-ef5e-4ec8-82dc-c0b1764fc982"
      },
      "source": [
        "os.listdir(dataset_dir)"
      ],
      "execution_count": 14,
      "outputs": [
        {
          "output_type": "execute_result",
          "data": {
            "text/plain": [
              "['train', 'imdb.vocab', 'test', 'imdbEr.txt', 'README']"
            ]
          },
          "metadata": {
            "tags": []
          },
          "execution_count": 14
        }
      ]
    },
    {
      "cell_type": "code",
      "metadata": {
        "colab": {
          "base_uri": "https://localhost:8080/"
        },
        "id": "v0WJ4Do8onSm",
        "outputId": "d1dc767d-b97e-4414-b200-a5933f542e24"
      },
      "source": [
        "train_dir = os.path.join(dataset_dir, 'train')\n",
        "os.listdir(train_dir)"
      ],
      "execution_count": 15,
      "outputs": [
        {
          "output_type": "execute_result",
          "data": {
            "text/plain": [
              "['urls_unsup.txt',\n",
              " 'urls_pos.txt',\n",
              " 'urls_neg.txt',\n",
              " 'unsup',\n",
              " 'labeledBow.feat',\n",
              " 'unsupBow.feat',\n",
              " 'neg',\n",
              " 'pos']"
            ]
          },
          "metadata": {
            "tags": []
          },
          "execution_count": 15
        }
      ]
    },
    {
      "cell_type": "code",
      "metadata": {
        "colab": {
          "base_uri": "https://localhost:8080/"
        },
        "id": "Zpx6zLSVonU1",
        "outputId": "28170a42-71fe-4b9e-9fe8-492172967993"
      },
      "source": [
        "sample_file = os.path.join(train_dir, 'pos/1181_9.txt')\n",
        "with open(sample_file) as f:\n",
        "  print(f.read())"
      ],
      "execution_count": 16,
      "outputs": [
        {
          "output_type": "stream",
          "text": [
            "Rachel Griffiths writes and directs this award winning short film. A heartwarming story about coping with grief and cherishing the memory of those we've loved and lost. Although, only 15 minutes long, Griffiths manages to capture so much emotion and truth onto film in the short space of time. Bud Tingwell gives a touching performance as Will, a widower struggling to cope with his wife's death. Will is confronted by the harsh reality of loneliness and helplessness as he proceeds to take care of Ruth's pet cow, Tulip. The film displays the grief and responsibility one feels for those they have loved and lost. Good cinematography, great direction, and superbly acted. It will bring tears to all those who have lost a loved one, and survived.\n"
          ],
          "name": "stdout"
        }
      ]
    },
    {
      "cell_type": "code",
      "metadata": {
        "id": "lwcyPkYQonXd"
      },
      "source": [
        "remove_dir = os.path.join(train_dir, 'unsup')\n",
        "shutil.rmtree(remove_dir)"
      ],
      "execution_count": 17,
      "outputs": []
    },
    {
      "cell_type": "code",
      "metadata": {
        "colab": {
          "base_uri": "https://localhost:8080/"
        },
        "id": "fL1cxzjjonaV",
        "outputId": "39e38aff-073a-42c5-be20-4eeae69cc958"
      },
      "source": [
        "from keras.datasets import imdb\n",
        "from keras import preprocessing\n",
        "\n",
        "max_features = 10000 \n",
        "maxlen = 300\n",
        "\n",
        "(x_train, y_train), (x_test, y_test) = imdb.load_data(num_words =max_features) \n",
        "\n",
        "x_train = preprocessing.sequence.pad_sequences(x_train, maxlen=maxlen) \n",
        "x_test = preprocessing.sequence.pad_sequences(x_test, maxlen=maxlen) \n"
      ],
      "execution_count": 18,
      "outputs": [
        {
          "output_type": "stream",
          "text": [
            "Downloading data from https://storage.googleapis.com/tensorflow/tf-keras-datasets/imdb.npz\n",
            "17465344/17464789 [==============================] - 0s 0us/step\n",
            "17473536/17464789 [==============================] - 0s 0us/step\n"
          ],
          "name": "stdout"
        },
        {
          "output_type": "stream",
          "text": [
            "<string>:6: VisibleDeprecationWarning: Creating an ndarray from ragged nested sequences (which is a list-or-tuple of lists-or-tuples-or ndarrays with different lengths or shapes) is deprecated. If you meant to do this, you must specify 'dtype=object' when creating the ndarray\n",
            "/usr/local/lib/python3.7/dist-packages/keras/datasets/imdb.py:155: VisibleDeprecationWarning: Creating an ndarray from ragged nested sequences (which is a list-or-tuple of lists-or-tuples-or ndarrays with different lengths or shapes) is deprecated. If you meant to do this, you must specify 'dtype=object' when creating the ndarray\n",
            "  x_train, y_train = np.array(xs[:idx]), np.array(labels[:idx])\n",
            "/usr/local/lib/python3.7/dist-packages/keras/datasets/imdb.py:156: VisibleDeprecationWarning: Creating an ndarray from ragged nested sequences (which is a list-or-tuple of lists-or-tuples-or ndarrays with different lengths or shapes) is deprecated. If you meant to do this, you must specify 'dtype=object' when creating the ndarray\n",
            "  x_test, y_test = np.array(xs[idx:]), np.array(labels[idx:])\n"
          ],
          "name": "stderr"
        }
      ]
    },
    {
      "cell_type": "code",
      "metadata": {
        "colab": {
          "base_uri": "https://localhost:8080/"
        },
        "id": "vOCslyjDonc1",
        "outputId": "306b5c4d-6f4e-4b66-f50a-c861a9141b27"
      },
      "source": [
        "from keras.layers import Embedding\n",
        "from keras.models import Sequential\n",
        "from keras.layers import Flatten, Dense\n",
        "\n",
        "model = Sequential()\n",
        "model.add(Embedding(10000, 8, input_length = maxlen)) \n",
        "model.add(Flatten()) \n",
        "model.add(Dense(1, activation=\"sigmoid\"))\n",
        "model.compile(optimizer=\"rmsprop\", loss=\"binary_crossentropy\", metrics=[\"acc\"])\n",
        "model.summary()"
      ],
      "execution_count": 19,
      "outputs": [
        {
          "output_type": "stream",
          "text": [
            "Model: \"sequential\"\n",
            "_________________________________________________________________\n",
            "Layer (type)                 Output Shape              Param #   \n",
            "=================================================================\n",
            "embedding (Embedding)        (None, 300, 8)            80000     \n",
            "_________________________________________________________________\n",
            "flatten (Flatten)            (None, 2400)              0         \n",
            "_________________________________________________________________\n",
            "dense (Dense)                (None, 1)                 2401      \n",
            "=================================================================\n",
            "Total params: 82,401\n",
            "Trainable params: 82,401\n",
            "Non-trainable params: 0\n",
            "_________________________________________________________________\n"
          ],
          "name": "stdout"
        }
      ]
    },
    {
      "cell_type": "code",
      "metadata": {
        "colab": {
          "base_uri": "https://localhost:8080/"
        },
        "id": "WTH6xG9_oKDW",
        "outputId": "41275b1a-f987-4567-baad-182f719f3be2"
      },
      "source": [
        "history = model.fit(x_train, y_train, epochs=10, batch_size=32, validation_split=0.2)\n"
      ],
      "execution_count": 20,
      "outputs": [
        {
          "output_type": "stream",
          "text": [
            "Epoch 1/10\n",
            "625/625 [==============================] - 16s 4ms/step - loss: 0.6543 - acc: 0.6057 - val_loss: 0.3833 - val_acc: 0.8528\n",
            "Epoch 2/10\n",
            "625/625 [==============================] - 2s 3ms/step - loss: 0.3169 - acc: 0.8814 - val_loss: 0.2986 - val_acc: 0.8794\n",
            "Epoch 3/10\n",
            "625/625 [==============================] - 2s 3ms/step - loss: 0.2269 - acc: 0.9122 - val_loss: 0.2741 - val_acc: 0.8898\n",
            "Epoch 4/10\n",
            "625/625 [==============================] - 2s 3ms/step - loss: 0.1914 - acc: 0.9289 - val_loss: 0.2712 - val_acc: 0.8920\n",
            "Epoch 5/10\n",
            "625/625 [==============================] - 2s 3ms/step - loss: 0.1645 - acc: 0.9398 - val_loss: 0.2735 - val_acc: 0.8914\n",
            "Epoch 6/10\n",
            "625/625 [==============================] - 2s 3ms/step - loss: 0.1464 - acc: 0.9481 - val_loss: 0.2777 - val_acc: 0.8922\n",
            "Epoch 7/10\n",
            "625/625 [==============================] - 2s 3ms/step - loss: 0.1260 - acc: 0.9549 - val_loss: 0.2853 - val_acc: 0.8936\n",
            "Epoch 8/10\n",
            "625/625 [==============================] - 2s 3ms/step - loss: 0.1133 - acc: 0.9614 - val_loss: 0.2971 - val_acc: 0.8896\n",
            "Epoch 9/10\n",
            "625/625 [==============================] - 2s 3ms/step - loss: 0.0959 - acc: 0.9701 - val_loss: 0.3044 - val_acc: 0.8898\n",
            "Epoch 10/10\n",
            "625/625 [==============================] - 2s 3ms/step - loss: 0.0884 - acc: 0.9706 - val_loss: 0.3164 - val_acc: 0.8888\n"
          ],
          "name": "stdout"
        }
      ]
    },
    {
      "cell_type": "code",
      "metadata": {
        "colab": {
          "base_uri": "https://localhost:8080/",
          "height": 545
        },
        "id": "a3IFWX2wpE0V",
        "outputId": "e29717d1-c6b8-46d4-9aa8-3867de9a339d"
      },
      "source": [
        "import matplotlib.pyplot as plt\n",
        "\n",
        "acc = history.history[\"acc\"] \n",
        "val_acc = history.history[\"val_acc\"] \n",
        "loss = history.history[\"loss\"] \n",
        "val_loss = history.history[\"val_loss\"] \n",
        "\n",
        "epochs = range(1, len(acc) + 1)\n",
        "\n",
        "plt.plot(epochs, acc, \"bo\", label = \"Training acc\") \n",
        "plt.plot(epochs, val_acc, \"b\", label = \"Validation acc\") \n",
        "plt.title(\"Training and validation accuracy\")\n",
        "plt.legend()\n",
        "plt.figure()\n",
        "\n",
        "plt.plot(epochs, loss, \"bo\", label = \"Training loss\")\n",
        "plt.plot(epochs, val_loss, \"b\", label = \"Validation loss\")\n",
        "plt.title(\"Training and validation loss\")\n",
        "plt.legend()\n",
        "\n",
        "plt.show()"
      ],
      "execution_count": 21,
      "outputs": [
        {
          "output_type": "display_data",
          "data": {
            "image/png": "[encoded data removed]",
            "text/plain": [
              "<Figure size 432x288 with 1 Axes>"
            ]
          },
          "metadata": {
            "tags": [],
            "needs_background": "light"
          }
        },
        {
          "output_type": "display_data",
          "data": {
            "image/png": "[encoded data removed]",
            "text/plain": [
              "<Figure size 432x288 with 1 Axes>"
            ]
          },
          "metadata": {
            "tags": [],
            "needs_background": "light"
          }
        }
      ]
    },
    {
      "cell_type": "code",
      "metadata": {
        "colab": {
          "base_uri": "https://localhost:8080/",
          "height": 35
        },
        "id": "YK4NT2OwpS7H",
        "outputId": "d42bcc0a-5d15-477f-cf90-b57fd1d53280"
      },
      "source": [
        "train_dir"
      ],
      "execution_count": 22,
      "outputs": [
        {
          "output_type": "execute_result",
          "data": {
            "application/vnd.google.colaboratory.intrinsic+json": {
              "type": "string"
            },
            "text/plain": [
              "'./aclImdb/train'"
            ]
          },
          "metadata": {
            "tags": []
          },
          "execution_count": 22
        }
      ]
    },
    {
      "cell_type": "code",
      "metadata": {
        "colab": {
          "base_uri": "https://localhost:8080/"
        },
        "id": "Xqnnn2fhpqOR",
        "outputId": "b8a19dc9-2bff-47fb-f100-61030cf44227"
      },
      "source": [
        "!ls ./aclImdb/train\n"
      ],
      "execution_count": 23,
      "outputs": [
        {
          "output_type": "stream",
          "text": [
            "labeledBow.feat  pos\t\turls_neg.txt  urls_unsup.txt\n",
            "neg\t\t unsupBow.feat\turls_pos.txt\n"
          ],
          "name": "stdout"
        }
      ]
    },
    {
      "cell_type": "code",
      "metadata": {
        "colab": {
          "base_uri": "https://localhost:8080/",
          "height": 35
        },
        "id": "RKXaA49dp4-_",
        "outputId": "6d4809c0-82b7-405c-c859-b7ce846a3c26"
      },
      "source": [
        "dataset_dir"
      ],
      "execution_count": 27,
      "outputs": [
        {
          "output_type": "execute_result",
          "data": {
            "application/vnd.google.colaboratory.intrinsic+json": {
              "type": "string"
            },
            "text/plain": [
              "'./aclImdb'"
            ]
          },
          "metadata": {
            "tags": []
          },
          "execution_count": 27
        }
      ]
    },
    {
      "cell_type": "code",
      "metadata": {
        "colab": {
          "base_uri": "https://localhost:8080/"
        },
        "id": "wTSU8001p-K_",
        "outputId": "2087a34b-b9fa-410c-82d9-11a187615dc7"
      },
      "source": [
        "!ls ./aclImdb\n"
      ],
      "execution_count": 29,
      "outputs": [
        {
          "output_type": "stream",
          "text": [
            "imdbEr.txt  imdb.vocab\tREADME\ttest  train\n"
          ],
          "name": "stdout"
        }
      ]
    },
    {
      "cell_type": "code",
      "metadata": {
        "id": "wTAKSCcZpH_m"
      },
      "source": [
        "import os\n",
        "\n",
        "imdb_dir = \"./aclImdb\"\n",
        "train_dir = os.path.join(imdb_dir, \"train\")\n",
        "labels = []\n",
        "texts = []\n",
        "\n",
        "for label_type in [\"neg\", \"pos\"]:\n",
        "    dir_name = os.path.join(train_dir, label_type)\n",
        "    for fname in os.listdir(dir_name):\n",
        "        if fname [-4:] == \".txt\":\n",
        "            f = open(os.path.join(dir_name, fname), encoding='utf-8')\n",
        "            texts.append(f.read())\n",
        "            f.close()\n",
        "            if label_type == \"neg\":\n",
        "                labels.append(0)\n",
        "            else:\n",
        "                labels.append(1)\n"
      ],
      "execution_count": 30,
      "outputs": []
    },
    {
      "cell_type": "code",
      "metadata": {
        "colab": {
          "base_uri": "https://localhost:8080/"
        },
        "id": "lJ1eAaeDpICH",
        "outputId": "f1682b18-2c87-4b11-dda5-93aa73bb4a20"
      },
      "source": [
        "from keras.preprocessing.text import Tokenizer\n",
        "from keras.preprocessing. sequence import pad_sequences\n",
        "import numpy as np\n",
        "\n",
        "maxlen = 100 \n",
        "training_samples = 200 \n",
        "validation_samples = 10000 \n",
        "max_words = 10000 \n",
        "\n",
        "tokenizer = Tokenizer(num_words=max_words)\n",
        "tokenizer.fit_on_texts(texts)\n",
        "sequences = tokenizer.texts_to_sequences(texts)\n",
        "word_index = tokenizer.word_index                 \n",
        "print(\"Found %s unique tokens.\" % len(word_index))\n",
        "\n",
        "data = pad_sequences(sequences, maxlen=maxlen)\n",
        "\n",
        "labels = np.asarray(labels)\n",
        "print(\"Shape of data tensor:\", data.shape)\n",
        "print(\"Shape of label tensor:\", labels.shape)\n",
        "\n",
        "indices = np.arange(data.shape[0]) \n",
        "np.random.shuffle(indices)\n",
        "data = data[indices]\n",
        "labels = labels[indices]\n",
        "\n",
        "x_train = data[:training_samples] \n",
        "y_train = labels[:training_samples] \n",
        "x_val = data[training_samples:training_samples+validation_samples] \n",
        "y_val = labels[training_samples:training_samples+validation_samples] "
      ],
      "execution_count": 31,
      "outputs": [
        {
          "output_type": "stream",
          "text": [
            "Found 88582 unique tokens.\n",
            "Shape of data tensor: (25000, 100)\n",
            "Shape of label tensor: (25000,)\n"
          ],
          "name": "stdout"
        }
      ]
    },
    {
      "cell_type": "code",
      "metadata": {
        "colab": {
          "base_uri": "https://localhost:8080/"
        },
        "id": "fus3vixopIFL",
        "outputId": "40648e74-a92e-4834-da1c-3b32d5a345e9"
      },
      "source": [
        "!wget http://nlp.stanford.edu/data/glove.6B.zip\n",
        "!unzip glove*.zip\n",
        "!ls\n",
        "!pwd"
      ],
      "execution_count": 32,
      "outputs": [
        {
          "output_type": "stream",
          "text": [
            "--2021-07-08 19:49:50--  http://nlp.stanford.edu/data/glove.6B.zip\n",
            "Resolving nlp.stanford.edu (nlp.stanford.edu)... 171.64.67.140\n",
            "Connecting to nlp.stanford.edu (nlp.stanford.edu)|171.64.67.140|:80... connected.\n",
            "HTTP request sent, awaiting response... 302 Found\n",
            "Location: https://nlp.stanford.edu/data/glove.6B.zip [following]\n",
            "--2021-07-08 19:49:50--  https://nlp.stanford.edu/data/glove.6B.zip\n",
            "Connecting to nlp.stanford.edu (nlp.stanford.edu)|171.64.67.140|:443... connected.\n",
            "HTTP request sent, awaiting response... 301 Moved Permanently\n",
            "Location: http://downloads.cs.stanford.edu/nlp/data/glove.6B.zip [following]\n",
            "--2021-07-08 19:49:50--  http://downloads.cs.stanford.edu/nlp/data/glove.6B.zip\n",
            "Resolving downloads.cs.stanford.edu (downloads.cs.stanford.edu)... 171.64.64.22\n",
            "Connecting to downloads.cs.stanford.edu (downloads.cs.stanford.edu)|171.64.64.22|:80... connected.\n",
            "HTTP request sent, awaiting response... 200 OK\n",
            "Length: 862182613 (822M) [application/zip]\n",
            "Saving to: ‘glove.6B.zip’\n",
            "\n",
            "glove.6B.zip        100%[===================>] 822.24M  5.16MB/s    in 2m 39s  \n",
            "\n",
            "2021-07-08 19:52:29 (5.16 MB/s) - ‘glove.6B.zip’ saved [862182613/862182613]\n",
            "\n",
            "Archive:  glove.6B.zip\n",
            "  inflating: glove.6B.50d.txt        \n",
            "  inflating: glove.6B.100d.txt       \n",
            "  inflating: glove.6B.200d.txt       \n",
            "  inflating: glove.6B.300d.txt       \n",
            "aclImdb\t\t   glove.6B.100d.txt  glove.6B.300d.txt  glove.6B.zip\n",
            "aclImdb_v1.tar.gz  glove.6B.200d.txt  glove.6B.50d.txt\t sample_data\n",
            "/content\n"
          ],
          "name": "stdout"
        }
      ]
    },
    {
      "cell_type": "code",
      "metadata": {
        "colab": {
          "base_uri": "https://localhost:8080/"
        },
        "id": "WYVgkTjxpIHg",
        "outputId": "d739f722-4f2d-4483-8781-6c32a32ec6be"
      },
      "source": [
        "embeddings_index = {}\n",
        "\n",
        "f = open(os.path.join(\"/content/glove.6B.100d.txt\"), encoding='utf-8')\n",
        "for line in f:\n",
        "    values = line.split()\n",
        "    word = values[0]\n",
        "    coefs = np.asarray(values[1:], dtype=\"float32\")\n",
        "    embeddings_index[word] = coefs\n",
        "f.close()\n",
        "\n",
        "print(\"found %s word vectors.\" % len (embeddings_index))\n"
      ],
      "execution_count": 37,
      "outputs": [
        {
          "output_type": "stream",
          "text": [
            "found 400000 word vectors.\n"
          ],
          "name": "stdout"
        }
      ]
    },
    {
      "cell_type": "code",
      "metadata": {
        "id": "IcNyv070pIKv"
      },
      "source": [
        "embedding_dim = 100\n",
        "\n",
        "embedding_matrix = np.zeros((max_words, embedding_dim)) \n",
        "for word, i in word_index.items():\n",
        "    if i < max_words:\n",
        "        embedding_vector = embeddings_index.get(word) \n",
        "        if embedding_vector is not None:\n",
        "            embedding_matrix[i] = embedding_vector \n"
      ],
      "execution_count": 38,
      "outputs": []
    },
    {
      "cell_type": "code",
      "metadata": {
        "colab": {
          "base_uri": "https://localhost:8080/"
        },
        "id": "JjTVGur-pINO",
        "outputId": "7577c83a-9f83-4199-e14b-e23bceea795e"
      },
      "source": [
        "from keras.models import Sequential\n",
        "from keras.layers import Embedding, Flatten, Dense\n",
        "\n",
        "model = Sequential()\n",
        "model.add(Embedding(max_words, embedding_dim, input_length = maxlen)) \n",
        "model.add(Flatten()) \n",
        "model.add(Dense(32, activation = \"relu\"))\n",
        "model.add(Dense(1, activation=\"sigmoid\")) \n",
        "model.summary()"
      ],
      "execution_count": 39,
      "outputs": [
        {
          "output_type": "stream",
          "text": [
            "Model: \"sequential_1\"\n",
            "_________________________________________________________________\n",
            "Layer (type)                 Output Shape              Param #   \n",
            "=================================================================\n",
            "embedding_1 (Embedding)      (None, 100, 100)          1000000   \n",
            "_________________________________________________________________\n",
            "flatten_1 (Flatten)          (None, 10000)             0         \n",
            "_________________________________________________________________\n",
            "dense_1 (Dense)              (None, 32)                320032    \n",
            "_________________________________________________________________\n",
            "dense_2 (Dense)              (None, 1)                 33        \n",
            "=================================================================\n",
            "Total params: 1,320,065\n",
            "Trainable params: 1,320,065\n",
            "Non-trainable params: 0\n",
            "_________________________________________________________________\n"
          ],
          "name": "stdout"
        }
      ]
    },
    {
      "cell_type": "code",
      "metadata": {
        "id": "oUYEBj8SpIQd"
      },
      "source": [
        "model.layers[0].set_weights([embedding_matrix])\n",
        "model.layers[0].trainable = False"
      ],
      "execution_count": 40,
      "outputs": []
    },
    {
      "cell_type": "code",
      "metadata": {
        "colab": {
          "base_uri": "https://localhost:8080/"
        },
        "id": "MBouigTIpISj",
        "outputId": "c428d44b-e39e-41f3-accd-0aa27a9d5f6b"
      },
      "source": [
        "model.compile(optimizer = \"rmsprop\", \n",
        "              loss = \"binary_crossentropy\", \n",
        "              metrics = [\"acc\"]) \n",
        "history = model.fit(x_train, y_train,\n",
        "                   epochs = 10,\n",
        "                   batch_size = 32,\n",
        "                   validation_data = (x_val, y_val))\n"
      ],
      "execution_count": 41,
      "outputs": [
        {
          "output_type": "stream",
          "text": [
            "Epoch 1/10\n",
            "7/7 [==============================] - 2s 147ms/step - loss: 1.7490 - acc: 0.5265 - val_loss: 0.7687 - val_acc: 0.4972\n",
            "Epoch 2/10\n",
            "7/7 [==============================] - 1s 109ms/step - loss: 0.6299 - acc: 0.6897 - val_loss: 1.0966 - val_acc: 0.4973\n",
            "Epoch 3/10\n",
            "7/7 [==============================] - 1s 109ms/step - loss: 0.5756 - acc: 0.6769 - val_loss: 0.7649 - val_acc: 0.5073\n",
            "Epoch 4/10\n",
            "7/7 [==============================] - 1s 105ms/step - loss: 0.4419 - acc: 0.7832 - val_loss: 0.7507 - val_acc: 0.5227\n",
            "Epoch 5/10\n",
            "7/7 [==============================] - 1s 104ms/step - loss: 0.2398 - acc: 0.9726 - val_loss: 0.7101 - val_acc: 0.5666\n",
            "Epoch 6/10\n",
            "7/7 [==============================] - 1s 107ms/step - loss: 0.1754 - acc: 0.9555 - val_loss: 0.7196 - val_acc: 0.5698\n",
            "Epoch 7/10\n",
            "7/7 [==============================] - 1s 109ms/step - loss: 0.0889 - acc: 1.0000 - val_loss: 0.7145 - val_acc: 0.5783\n",
            "Epoch 8/10\n",
            "7/7 [==============================] - 1s 110ms/step - loss: 0.0699 - acc: 0.9988 - val_loss: 2.5331 - val_acc: 0.4972\n",
            "Epoch 9/10\n",
            "7/7 [==============================] - 1s 109ms/step - loss: 0.2502 - acc: 0.8918 - val_loss: 0.9268 - val_acc: 0.5430\n",
            "Epoch 10/10\n",
            "7/7 [==============================] - 1s 109ms/step - loss: 0.0349 - acc: 1.0000 - val_loss: 0.9112 - val_acc: 0.5493\n"
          ],
          "name": "stdout"
        }
      ]
    },
    {
      "cell_type": "code",
      "metadata": {
        "colab": {
          "base_uri": "https://localhost:8080/",
          "height": 545
        },
        "id": "UywX4Tn3pIVO",
        "outputId": "1e2e455c-ea96-4e25-f716-3497c686d232"
      },
      "source": [
        "\n",
        "import matplotlib.pyplot as plt\n",
        "\n",
        "acc = history.history[\"acc\"] \n",
        "val_acc = history.history[\"val_acc\"]\n",
        "loss = history.history[\"loss\"] \n",
        "val_loss = history.history[\"val_loss\"]\n",
        "\n",
        "epochs = range(1, len(acc) + 1) \n",
        "\n",
        "plt.plot(epochs, acc, \"bo\", label = \"Training acc\")\n",
        "plt.plot(epochs, val_acc, \"b\", label = \"Validation acc\") \n",
        "plt.title(\"Training and validation accuracy\")\n",
        "plt.legend()\n",
        "plt.figure()\n",
        "\n",
        "plt.plot(epochs, loss, \"bo\", label = \"Training loss\")\n",
        "plt.plot(epochs, val_loss, \"b\", label = \"Validation loss\")\n",
        "plt.title(\"Training and validation loss\")\n",
        "plt.legend()\n",
        "\n",
        "plt.show()"
      ],
      "execution_count": 42,
      "outputs": [
        {
          "output_type": "display_data",
          "data": {
            "image/png": "[encoded data removed]",
            "text/plain": [
              "<Figure size 432x288 with 1 Axes>"
            ]
          },
          "metadata": {
            "tags": [],
            "needs_background": "light"
          }
        },
        {
          "output_type": "display_data",
          "data": {
            "image/png": "[encoded data removed]",
            "text/plain": [
              "<Figure size 432x288 with 1 Axes>"
            ]
          },
          "metadata": {
            "tags": [],
            "needs_background": "light"
          }
        }
      ]
    },
    {
      "cell_type": "code",
      "metadata": {
        "colab": {
          "base_uri": "https://localhost:8080/"
        },
        "id": "jkRluDNlpE3G",
        "outputId": "bb5bb94c-b0c3-4b4f-93ab-9a071bb9332f"
      },
      "source": [
        "from keras.datasets import imdb\n",
        "from keras.preprocessing import sequence\n",
        "\n",
        "max_features = 10000 \n",
        "maxlen = 500 \n",
        "batch_size = 32\n",
        "\n",
        "print (\"loading data ...\")\n",
        "(input_train, y_train), (input_test, y_test) = imdb.load_data(num_words = max_features)\n",
        "\n",
        "input_train = input_train[:5000]\n",
        "y_train = y_train[:5000]\n",
        "input_test = input_test[:5000]\n",
        "y_test = y_test[:5000]\n",
        "\n",
        "print(len(input_train), \"train sequences\")\n",
        "print(len(input_test), \"test sequences\")\n",
        "\n",
        "\n",
        "print(\"Pad sequences (samples x time)\")\n",
        "input_train = sequence.pad_sequences(input_train, maxlen=maxlen)\n",
        "print(\"input_train shape:\", input_train.shape)\n",
        "print(\"input_test shape:\", input_test.shape)\n"
      ],
      "execution_count": 43,
      "outputs": [
        {
          "output_type": "stream",
          "text": [
            "loading data ...\n"
          ],
          "name": "stdout"
        },
        {
          "output_type": "stream",
          "text": [
            "<string>:6: VisibleDeprecationWarning: Creating an ndarray from ragged nested sequences (which is a list-or-tuple of lists-or-tuples-or ndarrays with different lengths or shapes) is deprecated. If you meant to do this, you must specify 'dtype=object' when creating the ndarray\n",
            "/usr/local/lib/python3.7/dist-packages/keras/datasets/imdb.py:155: VisibleDeprecationWarning: Creating an ndarray from ragged nested sequences (which is a list-or-tuple of lists-or-tuples-or ndarrays with different lengths or shapes) is deprecated. If you meant to do this, you must specify 'dtype=object' when creating the ndarray\n",
            "  x_train, y_train = np.array(xs[:idx]), np.array(labels[:idx])\n"
          ],
          "name": "stderr"
        },
        {
          "output_type": "stream",
          "text": [
            "5000 train sequences\n",
            "5000 test sequences\n",
            "Pad sequences (samples x time)\n",
            "input_train shape: (5000, 500)\n",
            "input_test shape: (5000,)\n"
          ],
          "name": "stdout"
        },
        {
          "output_type": "stream",
          "text": [
            "/usr/local/lib/python3.7/dist-packages/keras/datasets/imdb.py:156: VisibleDeprecationWarning: Creating an ndarray from ragged nested sequences (which is a list-or-tuple of lists-or-tuples-or ndarrays with different lengths or shapes) is deprecated. If you meant to do this, you must specify 'dtype=object' when creating the ndarray\n",
            "  x_test, y_test = np.array(xs[idx:]), np.array(labels[idx:])\n"
          ],
          "name": "stderr"
        }
      ]
    },
    {
      "cell_type": "code",
      "metadata": {
        "colab": {
          "base_uri": "https://localhost:8080/"
        },
        "id": "77dYeq-BpE50",
        "outputId": "a971c1d7-efb8-48fc-f90d-fbb99be8b7b2"
      },
      "source": [
        "from keras.models import Sequential\n",
        "from keras.layers import Embedding\n",
        "from keras.layers import LSTM\n",
        "from keras.layers import Flatten, Dense\n",
        "\n",
        "model = Sequential()\n",
        "model.add(Embedding(max_features, 32))\n",
        "model.add(LSTM(32))\n",
        "model.add(Dense(1, activation = \"sigmoid\"))\n",
        "\n",
        "model.compile(optimizer = \"rmsprop\",\n",
        "             loss = \"binary_crossentropy\",\n",
        "             metrics = [\"acc\"])\n",
        "history = model.fit(input_train, y_train, epochs=10, batch_size=128, validation_split=0.2)\n"
      ],
      "execution_count": 44,
      "outputs": [
        {
          "output_type": "stream",
          "text": [
            "Epoch 1/10\n",
            "32/32 [==============================] - 10s 48ms/step - loss: 0.6910 - acc: 0.5264 - val_loss: 0.6676 - val_acc: 0.6410\n",
            "Epoch 2/10\n",
            "32/32 [==============================] - 1s 28ms/step - loss: 0.6276 - acc: 0.7413 - val_loss: 0.5461 - val_acc: 0.7880\n",
            "Epoch 3/10\n",
            "32/32 [==============================] - 1s 28ms/step - loss: 0.4788 - acc: 0.8360 - val_loss: 0.4680 - val_acc: 0.8030\n",
            "Epoch 4/10\n",
            "32/32 [==============================] - 1s 28ms/step - loss: 0.3213 - acc: 0.8817 - val_loss: 0.4718 - val_acc: 0.8100\n",
            "Epoch 5/10\n",
            "32/32 [==============================] - 1s 28ms/step - loss: 0.2301 - acc: 0.9208 - val_loss: 0.3971 - val_acc: 0.8350\n",
            "Epoch 6/10\n",
            "32/32 [==============================] - 1s 27ms/step - loss: 0.1790 - acc: 0.9411 - val_loss: 0.3837 - val_acc: 0.8380\n",
            "Epoch 7/10\n",
            "32/32 [==============================] - 1s 28ms/step - loss: 0.1175 - acc: 0.9644 - val_loss: 0.4167 - val_acc: 0.8470\n",
            "Epoch 8/10\n",
            "32/32 [==============================] - 1s 28ms/step - loss: 0.0985 - acc: 0.9678 - val_loss: 0.5380 - val_acc: 0.7940\n",
            "Epoch 9/10\n",
            "32/32 [==============================] - 1s 28ms/step - loss: 0.0820 - acc: 0.9785 - val_loss: 0.4564 - val_acc: 0.8350\n",
            "Epoch 10/10\n",
            "32/32 [==============================] - 1s 27ms/step - loss: 0.0538 - acc: 0.9866 - val_loss: 0.5116 - val_acc: 0.8420\n"
          ],
          "name": "stdout"
        }
      ]
    },
    {
      "cell_type": "code",
      "metadata": {
        "colab": {
          "base_uri": "https://localhost:8080/",
          "height": 545
        },
        "id": "WEeNx-_ppE8M",
        "outputId": "14823f9a-61e0-47c7-fbbb-f051bec6248b"
      },
      "source": [
        "import matplotlib.pyplot as plt\n",
        "\n",
        "acc = history.history[\"acc\"] \n",
        "val_acc = history.history[\"val_acc\"] \n",
        "loss = history.history[\"loss\"] \n",
        "val_loss = history.history[\"val_loss\"] \n",
        "\n",
        "epochs = range(1, len(acc) + 1) \n",
        "\n",
        "plt.plot(epochs, acc, \"bo\", label = \"Training acc\")\n",
        "plt.plot(epochs, val_acc, \"b\", label = \"Validation acc\") \n",
        "plt.title(\"Training and validation accuracy\")\n",
        "plt.legend()\n",
        "plt.figure()\n",
        "\n",
        "plt.plot(epochs, loss, \"bo\", label = \"Training loss\")\n",
        "plt.plot(epochs, val_loss, \"b\", label = \"Validation loss\")\n",
        "plt.title(\"Training and validation loss\")\n",
        "plt.legend()\n",
        "\n",
        "plt.show()"
      ],
      "execution_count": 45,
      "outputs": [
        {
          "output_type": "display_data",
          "data": {
            "image/png": "[encoded data removed]",
            "text/plain": [
              "<Figure size 432x288 with 1 Axes>"
            ]
          },
          "metadata": {
            "tags": [],
            "needs_background": "light"
          }
        },
        {
          "output_type": "display_data",
          "data": {
            "image/png": "[encoded data removed]",
            "text/plain": [
              "<Figure size 432x288 with 1 Axes>"
            ]
          },
          "metadata": {
            "tags": [],
            "needs_background": "light"
          }
        }
      ]
    }
  ]
}