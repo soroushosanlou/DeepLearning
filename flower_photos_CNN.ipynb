{
  "nbformat": 4,
  "nbformat_minor": 0,
  "metadata": {
    "colab": {
      "name": "flower_photos_CNN.ipynb",
      "provenance": [],
      "collapsed_sections": [],
      "authorship_tag": "ABX9TyNGt9iwLLKf+yHWuopexQPP",
      "include_colab_link": true
    },
    "kernelspec": {
      "name": "python3",
      "display_name": "Python 3"
    },
    "language_info": {
      "name": "python"
    }
  },
  "cells": [
    {
      "cell_type": "markdown",
      "metadata": {
        "id": "view-in-github",
        "colab_type": "text"
      },
      "source": [
        "<a href=\"https://colab.research.google.com/github/soroushosanlou/DeepLearning/blob/main/flower_photos_CNN.ipynb\" target=\"_parent\"><img src=\"https://colab.research.google.com/assets/colab-badge.svg\" alt=\"Open In Colab\"/></a>"
      ]
    },
    {
      "cell_type": "code",
      "metadata": {
        "id": "qcql9j5CKv6c"
      },
      "source": [
        "import os\n",
        "import numpy as np\n",
        "import glob\n",
        "import shutil\n",
        "\n",
        "import tensorflow as tf\n",
        "\n",
        "import matplotlib.pyplot as plt"
      ],
      "execution_count": null,
      "outputs": []
    },
    {
      "cell_type": "code",
      "metadata": {
        "colab": {
          "base_uri": "https://localhost:8080/"
        },
        "id": "Dj1e78-JK0UN",
        "outputId": "1eeaeb7d-264f-4ac3-c20c-7e81aab105b6"
      },
      "source": [
        "_URL = \"https://storage.googleapis.com/download.tensorflow.org/example_images/flower_photos.tgz\"\n",
        "\n",
        "zip_file = tf.keras.utils.get_file(origin=_URL,\n",
        "                                   fname=\"flower_photos.tgz\",\n",
        "                                   extract=True)\n",
        "\n",
        "base_dir = os.path.join(os.path.dirname(zip_file), 'flower_photos')"
      ],
      "execution_count": null,
      "outputs": [
        {
          "output_type": "stream",
          "text": [
            "Downloading data from https://storage.googleapis.com/download.tensorflow.org/example_images/flower_photos.tgz\n",
            "228818944/228813984 [==============================] - 2s 0us/step\n"
          ],
          "name": "stdout"
        }
      ]
    },
    {
      "cell_type": "code",
      "metadata": {
        "id": "9NUH8V-UK3Pb"
      },
      "source": [
        "classes = ['roses', 'daisy', 'dandelion', 'sunflowers', 'tulips']"
      ],
      "execution_count": null,
      "outputs": []
    },
    {
      "cell_type": "code",
      "metadata": {
        "colab": {
          "base_uri": "https://localhost:8080/"
        },
        "id": "GLD-OnHJLZhs",
        "outputId": "d444bbf3-94b7-47bf-e6ff-c8ec254bc4b8"
      },
      "source": [
        "for cl in classes:\n",
        "  img_path = os.path.join(base_dir, cl)\n",
        "  images = glob.glob(img_path + '/*.jpg')\n",
        "  print(\"{}: {} Images\".format(cl, len(images)))\n",
        "  train, val = images[:round(len(images)*0.8)], images[round(len(images)*0.8):]\n",
        "\n",
        "  for t in train:\n",
        "    if not os.path.exists(os.path.join(base_dir, 'train', cl)):\n",
        "      os.makedirs(os.path.join(base_dir, 'train', cl))\n",
        "    shutil.move(t, os.path.join(base_dir, 'train', cl))\n",
        "\n",
        "  for v in val:\n",
        "    if not os.path.exists(os.path.join(base_dir, 'val', cl)):\n",
        "      os.makedirs(os.path.join(base_dir, 'val', cl))\n",
        "    shutil.move(v, os.path.join(base_dir, 'val', cl))"
      ],
      "execution_count": null,
      "outputs": [
        {
          "output_type": "stream",
          "text": [
            "roses: 641 Images\n",
            "daisy: 633 Images\n",
            "dandelion: 898 Images\n",
            "sunflowers: 699 Images\n",
            "tulips: 799 Images\n"
          ],
          "name": "stdout"
        }
      ]
    },
    {
      "cell_type": "code",
      "metadata": {
        "id": "ydw_3yR5LedG"
      },
      "source": [
        "train_dir = os.path.join(base_dir, 'train')\n",
        "val_dir = os.path.join(base_dir, 'val')"
      ],
      "execution_count": null,
      "outputs": []
    },
    {
      "cell_type": "code",
      "metadata": {
        "id": "kWksTf7dL65D"
      },
      "source": [
        "from keras import layers\n",
        "from keras import models\n",
        "\n",
        "model = models.Sequential()\n",
        "model.add(layers.Conv2D(32, (3, 3), activation='relu',\n",
        "                        input_shape=(150, 150, 3)))\n",
        "model.add(layers.MaxPooling2D((2, 2)))\n",
        "model.add(layers.Conv2D(64, (3, 3), activation='relu'))\n",
        "model.add(layers.MaxPooling2D((2, 2)))\n",
        "model.add(layers.Conv2D(128, (3, 3), activation='relu'))\n",
        "model.add(layers.MaxPooling2D((2, 2)))\n",
        "model.add(layers.Conv2D(128, (3, 3), activation='relu'))\n",
        "model.add(layers.MaxPooling2D((2, 2)))\n",
        "model.add(layers.Flatten())\n",
        "model.add(layers.Dense(512, activation='relu'))\n",
        "model.add(layers.Dense(1, activation='softmax'))"
      ],
      "execution_count": null,
      "outputs": []
    },
    {
      "cell_type": "code",
      "metadata": {
        "colab": {
          "base_uri": "https://localhost:8080/"
        },
        "id": "Mz31CJ90NytI",
        "outputId": "1941374c-c3a2-48bd-b495-339a4c4c409c"
      },
      "source": [
        "model.summary()"
      ],
      "execution_count": null,
      "outputs": [
        {
          "output_type": "stream",
          "text": [
            "Model: \"sequential\"\n",
            "_________________________________________________________________\n",
            "Layer (type)                 Output Shape              Param #   \n",
            "=================================================================\n",
            "conv2d (Conv2D)              (None, 148, 148, 32)      896       \n",
            "_________________________________________________________________\n",
            "max_pooling2d (MaxPooling2D) (None, 74, 74, 32)        0         \n",
            "_________________________________________________________________\n",
            "conv2d_1 (Conv2D)            (None, 72, 72, 64)        18496     \n",
            "_________________________________________________________________\n",
            "max_pooling2d_1 (MaxPooling2 (None, 36, 36, 64)        0         \n",
            "_________________________________________________________________\n",
            "conv2d_2 (Conv2D)            (None, 34, 34, 128)       73856     \n",
            "_________________________________________________________________\n",
            "max_pooling2d_2 (MaxPooling2 (None, 17, 17, 128)       0         \n",
            "_________________________________________________________________\n",
            "conv2d_3 (Conv2D)            (None, 15, 15, 128)       147584    \n",
            "_________________________________________________________________\n",
            "max_pooling2d_3 (MaxPooling2 (None, 7, 7, 128)         0         \n",
            "_________________________________________________________________\n",
            "flatten (Flatten)            (None, 6272)              0         \n",
            "_________________________________________________________________\n",
            "dense (Dense)                (None, 512)               3211776   \n",
            "_________________________________________________________________\n",
            "dense_1 (Dense)              (None, 1)                 513       \n",
            "=================================================================\n",
            "Total params: 3,453,121\n",
            "Trainable params: 3,453,121\n",
            "Non-trainable params: 0\n",
            "_________________________________________________________________\n"
          ],
          "name": "stdout"
        }
      ]
    },
    {
      "cell_type": "code",
      "metadata": {
        "colab": {
          "base_uri": "https://localhost:8080/"
        },
        "id": "4zH-EE9xN2nv",
        "outputId": "07562c24-f761-42f3-c733-d12ab1a0876f"
      },
      "source": [
        "from keras import optimizers\n",
        "\n",
        "model.compile(loss='categorical_crossentropy',\n",
        "              optimizer=optimizers.RMSprop(lr=1e-4),\n",
        "              metrics=['acc'])"
      ],
      "execution_count": null,
      "outputs": [
        {
          "output_type": "stream",
          "text": [
            "/usr/local/lib/python3.7/dist-packages/tensorflow/python/keras/optimizer_v2/optimizer_v2.py:375: UserWarning: The `lr` argument is deprecated, use `learning_rate` instead.\n",
            "  \"The `lr` argument is deprecated, use `learning_rate` instead.\")\n"
          ],
          "name": "stderr"
        }
      ]
    },
    {
      "cell_type": "code",
      "metadata": {
        "colab": {
          "base_uri": "https://localhost:8080/"
        },
        "id": "MBvY8nSZOAUy",
        "outputId": "4a88b387-273d-4685-d815-287eda42425a"
      },
      "source": [
        "from keras.preprocessing.image import ImageDataGenerator\n",
        "\n",
        "# All images will be rescaled by 1./255\n",
        "train_datagen = ImageDataGenerator(rescale=1./255)\n",
        "test_datagen = ImageDataGenerator(rescale=1./255)\n",
        "\n",
        "train_generator = train_datagen.flow_from_directory(\n",
        "        # This is the target directory\n",
        "        train_dir,\n",
        "        # All images will be resized to 150x150\n",
        "        target_size=(150, 150),\n",
        "        batch_size=20,\n",
        "        # Since we use binary_crossentropy loss, we need binary labels\n",
        "        class_mode='categorical')\n",
        "\n",
        "validation_generator = test_datagen.flow_from_directory(\n",
        "        val_dir,\n",
        "        target_size=(150, 150),\n",
        "        batch_size=20,\n",
        "        class_mode='categorical')"
      ],
      "execution_count": null,
      "outputs": [
        {
          "output_type": "stream",
          "text": [
            "Found 2935 images belonging to 5 classes.\n",
            "Found 735 images belonging to 5 classes.\n"
          ],
          "name": "stdout"
        }
      ]
    },
    {
      "cell_type": "code",
      "metadata": {
        "colab": {
          "base_uri": "https://localhost:8080/"
        },
        "id": "65KD-BPnOaCD",
        "outputId": "a79a4163-3640-4f03-bbad-4806c24e51f1"
      },
      "source": [
        "for data_batch, labels_batch in train_generator:\n",
        "    print('data batch shape:', data_batch.shape)\n",
        "    print('labels batch shape:', labels_batch.shape)\n",
        "    break"
      ],
      "execution_count": null,
      "outputs": [
        {
          "output_type": "stream",
          "text": [
            "data batch shape: (20, 150, 150, 3)\n",
            "labels batch shape: (20, 5)\n"
          ],
          "name": "stdout"
        }
      ]
    },
    {
      "cell_type": "code",
      "metadata": {
        "colab": {
          "base_uri": "https://localhost:8080/"
        },
        "id": "Bksm6gL5Od8U",
        "outputId": "ff803c64-4363-4643-bbc9-63d1597fdd40"
      },
      "source": [
        "history = model.fit_generator(\n",
        "      train_generator,\n",
        "      steps_per_epoch=20,\n",
        "      epochs=30,\n",
        "      validation_data=validation_generator,\n",
        "      validation_steps=20)"
      ],
      "execution_count": 18,
      "outputs": [
        {
          "output_type": "stream",
          "text": [
            "/usr/local/lib/python3.7/dist-packages/keras/engine/training.py:1915: UserWarning: `Model.fit_generator` is deprecated and will be removed in a future version. Please use `Model.fit`, which supports generators.\n",
            "  warnings.warn('`Model.fit_generator` is deprecated and '\n"
          ],
          "name": "stderr"
        },
        {
          "output_type": "stream",
          "text": [
            "Epoch 1/30\n",
            "100/100 [==============================] - 104s 1s/step - loss: 1.5553 - acc: 0.7995 - val_loss: 1.4378 - val_acc: 0.7980\n",
            "Epoch 2/30\n",
            "100/100 [==============================] - 103s 1s/step - loss: 1.3703 - acc: 0.7990 - val_loss: 1.2851 - val_acc: 0.8045\n",
            "Epoch 3/30\n",
            "100/100 [==============================] - 104s 1s/step - loss: 1.2127 - acc: 0.8103 - val_loss: 1.1648 - val_acc: 0.8195\n",
            "Epoch 4/30\n",
            "100/100 [==============================] - 103s 1s/step - loss: 1.1437 - acc: 0.8191 - val_loss: 1.1802 - val_acc: 0.8245\n",
            "Epoch 5/30\n",
            "100/100 [==============================] - 103s 1s/step - loss: 1.1246 - acc: 0.8223 - val_loss: 1.2013 - val_acc: 0.8245\n",
            "Epoch 6/30\n",
            "100/100 [==============================] - 103s 1s/step - loss: 1.0908 - acc: 0.8301 - val_loss: 1.0579 - val_acc: 0.8350\n",
            "Epoch 7/30\n",
            "100/100 [==============================] - 103s 1s/step - loss: 1.0627 - acc: 0.8360 - val_loss: 1.0950 - val_acc: 0.8335\n",
            "Epoch 8/30\n",
            "100/100 [==============================] - 102s 1s/step - loss: 1.0470 - acc: 0.8404 - val_loss: 1.0504 - val_acc: 0.8385\n",
            "Epoch 9/30\n",
            "100/100 [==============================] - 103s 1s/step - loss: 1.0224 - acc: 0.8444 - val_loss: 1.0724 - val_acc: 0.8505\n",
            "Epoch 10/30\n",
            "100/100 [==============================] - 102s 1s/step - loss: 0.9751 - acc: 0.8519 - val_loss: 1.0390 - val_acc: 0.8415\n",
            "Epoch 11/30\n",
            "100/100 [==============================] - 103s 1s/step - loss: 0.9698 - acc: 0.8529 - val_loss: 1.0202 - val_acc: 0.8520\n",
            "Epoch 12/30\n",
            "100/100 [==============================] - 102s 1s/step - loss: 0.9274 - acc: 0.8602 - val_loss: 1.0143 - val_acc: 0.8500\n",
            "Epoch 13/30\n",
            "100/100 [==============================] - 102s 1s/step - loss: 0.9017 - acc: 0.8640 - val_loss: 0.9972 - val_acc: 0.8565\n",
            "Epoch 14/30\n",
            "100/100 [==============================] - 102s 1s/step - loss: 0.9141 - acc: 0.8627 - val_loss: 0.9375 - val_acc: 0.8660\n",
            "Epoch 15/30\n",
            "100/100 [==============================] - 103s 1s/step - loss: 0.8932 - acc: 0.8639 - val_loss: 0.9130 - val_acc: 0.8590\n",
            "Epoch 16/30\n",
            "100/100 [==============================] - 103s 1s/step - loss: 0.8669 - acc: 0.8712 - val_loss: 0.9190 - val_acc: 0.8645\n",
            "Epoch 17/30\n",
            "100/100 [==============================] - 104s 1s/step - loss: 0.8629 - acc: 0.8709 - val_loss: 1.0264 - val_acc: 0.8435\n",
            "Epoch 18/30\n",
            "100/100 [==============================] - 104s 1s/step - loss: 0.8466 - acc: 0.8756 - val_loss: 0.9097 - val_acc: 0.8665\n",
            "Epoch 19/30\n",
            "100/100 [==============================] - 104s 1s/step - loss: 0.8158 - acc: 0.8794 - val_loss: 0.9251 - val_acc: 0.8600\n",
            "Epoch 20/30\n",
            "100/100 [==============================] - 104s 1s/step - loss: 0.8123 - acc: 0.8789 - val_loss: 0.8951 - val_acc: 0.8675\n",
            "Epoch 21/30\n",
            "100/100 [==============================] - 103s 1s/step - loss: 0.7907 - acc: 0.8803 - val_loss: 0.9791 - val_acc: 0.8525\n",
            "Epoch 22/30\n",
            "100/100 [==============================] - 104s 1s/step - loss: 0.7897 - acc: 0.8812 - val_loss: 0.8531 - val_acc: 0.8825\n",
            "Epoch 23/30\n",
            "100/100 [==============================] - 105s 1s/step - loss: 0.7646 - acc: 0.8852 - val_loss: 0.7950 - val_acc: 0.8830\n",
            "Epoch 24/30\n",
            "100/100 [==============================] - 105s 1s/step - loss: 0.7447 - acc: 0.8908 - val_loss: 0.9278 - val_acc: 0.8580\n",
            "Epoch 25/30\n",
            "100/100 [==============================] - 106s 1s/step - loss: 0.7397 - acc: 0.8891 - val_loss: 0.9010 - val_acc: 0.8675\n",
            "Epoch 26/30\n",
            "100/100 [==============================] - 105s 1s/step - loss: 0.7229 - acc: 0.8935 - val_loss: 0.9956 - val_acc: 0.8650\n",
            "Epoch 27/30\n",
            "100/100 [==============================] - 104s 1s/step - loss: 0.7028 - acc: 0.8976 - val_loss: 0.9238 - val_acc: 0.8670\n",
            "Epoch 28/30\n",
            "100/100 [==============================] - 105s 1s/step - loss: 0.6755 - acc: 0.8986 - val_loss: 0.8384 - val_acc: 0.8825\n",
            "Epoch 29/30\n",
            "100/100 [==============================] - 106s 1s/step - loss: 0.6646 - acc: 0.9024 - val_loss: 0.8331 - val_acc: 0.8815\n",
            "Epoch 30/30\n",
            "100/100 [==============================] - 104s 1s/step - loss: 0.6573 - acc: 0.9017 - val_loss: 0.8221 - val_acc: 0.8835\n"
          ],
          "name": "stdout"
        }
      ]
    },
    {
      "cell_type": "code",
      "metadata": {
        "colab": {
          "base_uri": "https://localhost:8080/",
          "height": 545
        },
        "id": "PKF0ABjNOgdE",
        "outputId": "8fedb3db-9d97-4212-f882-1e656e14f134"
      },
      "source": [
        "import matplotlib.pyplot as plt\n",
        "%matplotlib inline\n",
        "acc = history.history['acc']\n",
        "val_acc = history.history['val_acc']\n",
        "loss = history.history['loss']\n",
        "val_loss = history.history['val_loss']\n",
        "\n",
        "epochs = range(len(acc))\n",
        "\n",
        "plt.plot(epochs, acc, 'bo', label='Training acc')\n",
        "plt.plot(epochs, val_acc, 'b', label='Validation acc')\n",
        "plt.title('Training and validation accuracy')\n",
        "plt.legend()\n",
        "\n",
        "plt.figure()\n",
        "\n",
        "plt.plot(epochs, loss, 'bo', label='Training loss')\n",
        "plt.plot(epochs, val_loss, 'b', label='Validation loss')\n",
        "plt.title('Training and validation loss')\n",
        "plt.legend()\n",
        "\n",
        "plt.show()"
      ],
      "execution_count": 19,
      "outputs": [
        {
          "output_type": "display_data",
          "data": {
            "image/png": "[encoded data removed]",
            "text/plain": [
              "<Figure size 432x288 with 1 Axes>"
            ]
          },
          "metadata": {
            "tags": [],
            "needs_background": "light"
          }
        },
        {
          "output_type": "display_data",
          "data": {
            "image/png": "[encoded data removed]",
            "text/plain": [
              "<Figure size 432x288 with 1 Axes>"
            ]
          },
          "metadata": {
            "tags": [],
            "needs_background": "light"
          }
        }
      ]
    },
    {
      "cell_type": "code",
      "metadata": {
        "id": "VOZeMp4VSxgq"
      },
      "source": [
        ""
      ],
      "execution_count": null,
      "outputs": []
    }
  ]
}