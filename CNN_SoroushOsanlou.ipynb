{
  "nbformat": 4,
  "nbformat_minor": 0,
  "metadata": {
    "colab": {
      "name": "CNN_SoroushOsanlou.ipynb",
      "provenance": [],
      "collapsed_sections": [],
      "authorship_tag": "ABX9TyPDqV92dtN2kOr3m1Q6jrqh",
      "include_colab_link": true
    },
    "kernelspec": {
      "name": "python3",
      "display_name": "Python 3"
    },
    "language_info": {
      "name": "python"
    },
    "accelerator": "GPU"
  },
  "cells": [
    {
      "cell_type": "markdown",
      "metadata": {
        "id": "view-in-github",
        "colab_type": "text"
      },
      "source": [
        "<a href=\"https://colab.research.google.com/github/soroushosanlou/DeepLearning/blob/main/CNN_SoroushOsanlou.ipynb\" target=\"_parent\"><img src=\"https://colab.research.google.com/assets/colab-badge.svg\" alt=\"Open In Colab\"/></a>"
      ]
    },
    {
      "cell_type": "code",
      "metadata": {
        "colab": {
          "base_uri": "https://localhost:8080/"
        },
        "id": "gMa9rHrAy3es",
        "outputId": "6b778661-40bf-4705-8362-4b759b6b141d"
      },
      "source": [
        "!mkdir dataset\n",
        "!wget !wget https://raw.githubusercontent.com/Alireza-Akhavan/SRU-deeplearning-workshop/master/homework/ex2-conv-cifar10-in-colab.ipynb -P dataset"
      ],
      "execution_count": 1,
      "outputs": [
        {
          "output_type": "stream",
          "text": [
            "--2021-06-17 12:16:26--  http://!wget/\n",
            "Resolving !wget (!wget)... failed: Name or service not known.\n",
            "wget: unable to resolve host address ‘!wget’\n",
            "--2021-06-17 12:16:26--  https://raw.githubusercontent.com/Alireza-Akhavan/SRU-deeplearning-workshop/master/homework/ex2-conv-cifar10-in-colab.ipynb\n",
            "Resolving raw.githubusercontent.com (raw.githubusercontent.com)... 185.199.108.133, 185.199.111.133, 185.199.109.133, ...\n",
            "Connecting to raw.githubusercontent.com (raw.githubusercontent.com)|185.199.108.133|:443... connected.\n",
            "HTTP request sent, awaiting response... 200 OK\n",
            "Length: 29527 (29K) [text/plain]\n",
            "Saving to: ‘dataset/ex2-conv-cifar10-in-colab.ipynb’\n",
            "\n",
            "\r          ex2-conv-   0%[                    ]       0  --.-KB/s               \rex2-conv-cifar10-in 100%[===================>]  28.83K  --.-KB/s    in 0s      \n",
            "\n",
            "2021-06-17 12:16:26 (128 MB/s) - ‘dataset/ex2-conv-cifar10-in-colab.ipynb’ saved [29527/29527]\n",
            "\n",
            "FINISHED --2021-06-17 12:16:26--\n",
            "Total wall clock time: 0.1s\n",
            "Downloaded: 1 files, 29K in 0s (128 MB/s)\n"
          ],
          "name": "stdout"
        }
      ]
    },
    {
      "cell_type": "code",
      "metadata": {
        "id": "qanlycSW0iVw"
      },
      "source": [
        "from tensorflow import keras\n",
        "from keras import layers\n",
        "from keras.models import Sequential\n",
        "from keras.layers import Dense, Activation, Flatten, Dropout\n",
        "from keras.layers import Conv2D, MaxPooling2D\n",
        "from keras.datasets import cifar10\n",
        "import numpy as np\n",
        "import matplotlib.pyplot as plt\n",
        "%matplotlib inline"
      ],
      "execution_count": 24,
      "outputs": []
    },
    {
      "cell_type": "code",
      "metadata": {
        "id": "WK4NNpdp1X61"
      },
      "source": [
        "(x_train, y_train), (x_test, y_test) = cifar10.load_data()"
      ],
      "execution_count": 25,
      "outputs": []
    },
    {
      "cell_type": "code",
      "metadata": {
        "colab": {
          "base_uri": "https://localhost:8080/"
        },
        "id": "QKTt0Wy91t88",
        "outputId": "362da8d2-8c40-4d9a-c5b5-d8852868df4d"
      },
      "source": [
        "print(x_train.shape)\n",
        "print(y_train.shape)\n",
        "print(x_test.shape)\n",
        "print(y_test.shape)\n"
      ],
      "execution_count": 26,
      "outputs": [
        {
          "output_type": "stream",
          "text": [
            "(50000, 32, 32, 3)\n",
            "(50000, 1)\n",
            "(10000, 32, 32, 3)\n",
            "(10000, 1)\n"
          ],
          "name": "stdout"
        }
      ]
    },
    {
      "cell_type": "code",
      "metadata": {
        "colab": {
          "base_uri": "https://localhost:8080/",
          "height": 283
        },
        "id": "Oji19zHl0iYm",
        "outputId": "d28cf469-dc53-4d8a-9749-f8215fb8d76e"
      },
      "source": [
        "plt.imshow(x_train[15])\n",
        "\n"
      ],
      "execution_count": 27,
      "outputs": [
        {
          "output_type": "execute_result",
          "data": {
            "text/plain": [
              "<matplotlib.image.AxesImage at 0x7f54ff3f8b50>"
            ]
          },
          "metadata": {
            "tags": []
          },
          "execution_count": 27
        },
        {
          "output_type": "display_data",
          "data": {
            "image/png": "[encoded data removed]",
            "text/plain": [
              "<Figure size 432x288 with 1 Axes>"
            ]
          },
          "metadata": {
            "tags": [],
            "needs_background": "light"
          }
        }
      ]
    },
    {
      "cell_type": "code",
      "metadata": {
        "id": "y0B5QA2H0ibl"
      },
      "source": [
        "#پاسخ سوال 1\n",
        "x_train = np.array(x_train)\n",
        "x_test = np.array(x_test)\n",
        "x_train = x_train.astype('float32')\n",
        "x_test = x_test.astype('float32')\n",
        "x_train /= 255\n",
        "x_test /= 255"
      ],
      "execution_count": 28,
      "outputs": []
    },
    {
      "cell_type": "code",
      "metadata": {
        "colab": {
          "base_uri": "https://localhost:8080/"
        },
        "id": "To8tKYvv2l-o",
        "outputId": "4232d388-c35b-4e8b-af3d-61c347fa3223"
      },
      "source": [
        "y_train[0:5]"
      ],
      "execution_count": 29,
      "outputs": [
        {
          "output_type": "execute_result",
          "data": {
            "text/plain": [
              "array([[6],\n",
              "       [9],\n",
              "       [9],\n",
              "       [4],\n",
              "       [1]], dtype=uint8)"
            ]
          },
          "metadata": {
            "tags": []
          },
          "execution_count": 29
        }
      ]
    },
    {
      "cell_type": "code",
      "metadata": {
        "id": "8HMb42S66xoe"
      },
      "source": [
        "x_train = x_train.reshape(-1,32,32,1)\n",
        "x_test = x_test.reshape(-1,32,32,1)"
      ],
      "execution_count": 30,
      "outputs": []
    },
    {
      "cell_type": "code",
      "metadata": {
        "colab": {
          "base_uri": "https://localhost:8080/"
        },
        "id": "aAXVahj72x1a",
        "outputId": "15e1a69a-c8c5-4148-d8ae-410fb3529511"
      },
      "source": [
        "len(np.unique(y_train))"
      ],
      "execution_count": 31,
      "outputs": [
        {
          "output_type": "execute_result",
          "data": {
            "text/plain": [
              "10"
            ]
          },
          "metadata": {
            "tags": []
          },
          "execution_count": 31
        }
      ]
    },
    {
      "cell_type": "code",
      "metadata": {
        "id": "5GV77Clc2Tq_"
      },
      "source": [
        "# پاسخ سوال 2\n",
        "y_train = keras.utils.to_categorical(y_train, num_classes=10)\n",
        "y_test = keras.utils.to_categorical(y_test, num_classes=10)"
      ],
      "execution_count": 32,
      "outputs": []
    },
    {
      "cell_type": "code",
      "metadata": {
        "colab": {
          "base_uri": "https://localhost:8080/"
        },
        "id": "s5CiUcCy3QoR",
        "outputId": "4627ee23-1c77-4652-b088-0f1e70ed0bfe"
      },
      "source": [
        "y_train[5]"
      ],
      "execution_count": 33,
      "outputs": [
        {
          "output_type": "execute_result",
          "data": {
            "text/plain": [
              "array([0., 1., 0., 0., 0., 0., 0., 0., 0., 0.], dtype=float32)"
            ]
          },
          "metadata": {
            "tags": []
          },
          "execution_count": 33
        }
      ]
    },
    {
      "cell_type": "code",
      "metadata": {
        "id": "udq0tN9g3Rsr"
      },
      "source": [
        "# پاسخ سوال 3\n",
        "model = Sequential()\n",
        "model.add(layers.Conv2D(32, (3, 3), activation='relu',\n",
        "                        input_shape=(32, 32, 3)))\n",
        "model.add(layers.MaxPooling2D((2, 2)))\n",
        "model.add(layers.Conv2D(32, (3, 3), activation='relu'))\n",
        "model.add(layers.MaxPooling2D((2, 2)))\n",
        "model.add(layers.Conv2D(64, (3, 3), activation='relu'))\n",
        "model.add(layers.MaxPooling2D((2, 2)))\n",
        "model.add(layers.Flatten())\n",
        "model.add(Dropout(0.5))\n",
        "model.add(layers.Dense(10, activation='softmax'))"
      ],
      "execution_count": 19,
      "outputs": []
    },
    {
      "cell_type": "code",
      "metadata": {
        "colab": {
          "base_uri": "https://localhost:8080/"
        },
        "id": "J5tC8hfB56P3",
        "outputId": "c8b15666-67ca-4073-cdf0-25dba9a87d6c"
      },
      "source": [
        "model.summary()"
      ],
      "execution_count": 20,
      "outputs": [
        {
          "output_type": "stream",
          "text": [
            "Model: \"sequential_1\"\n",
            "_________________________________________________________________\n",
            "Layer (type)                 Output Shape              Param #   \n",
            "=================================================================\n",
            "conv2d_3 (Conv2D)            (None, 30, 30, 32)        896       \n",
            "_________________________________________________________________\n",
            "max_pooling2d_3 (MaxPooling2 (None, 15, 15, 32)        0         \n",
            "_________________________________________________________________\n",
            "conv2d_4 (Conv2D)            (None, 13, 13, 32)        9248      \n",
            "_________________________________________________________________\n",
            "max_pooling2d_4 (MaxPooling2 (None, 6, 6, 32)          0         \n",
            "_________________________________________________________________\n",
            "conv2d_5 (Conv2D)            (None, 4, 4, 64)          18496     \n",
            "_________________________________________________________________\n",
            "max_pooling2d_5 (MaxPooling2 (None, 2, 2, 64)          0         \n",
            "_________________________________________________________________\n",
            "flatten_1 (Flatten)          (None, 256)               0         \n",
            "_________________________________________________________________\n",
            "dropout_1 (Dropout)          (None, 256)               0         \n",
            "_________________________________________________________________\n",
            "dense_1 (Dense)              (None, 10)                2570      \n",
            "=================================================================\n",
            "Total params: 31,210\n",
            "Trainable params: 31,210\n",
            "Non-trainable params: 0\n",
            "_________________________________________________________________\n"
          ],
          "name": "stdout"
        }
      ]
    },
    {
      "cell_type": "code",
      "metadata": {
        "colab": {
          "base_uri": "https://localhost:8080/"
        },
        "id": "4ktSxa6F4o5Y",
        "outputId": "e5323165-1337-4e3d-ccda-793ab5dcaa25"
      },
      "source": [
        "#پاسخ سوال 4\n",
        "opt_rms = keras.optimizers.RMSprop(lr=0.001,decay=1e-6)\n",
        "model.compile(loss='categorical_crossentropy',\n",
        "              optimizer=opt_rms,\n",
        "              metrics=['accuracy'])"
      ],
      "execution_count": 21,
      "outputs": [
        {
          "output_type": "stream",
          "text": [
            "/usr/local/lib/python3.7/dist-packages/tensorflow/python/keras/optimizer_v2/optimizer_v2.py:375: UserWarning: The `lr` argument is deprecated, use `learning_rate` instead.\n",
            "  \"The `lr` argument is deprecated, use `learning_rate` instead.\")\n"
          ],
          "name": "stderr"
        }
      ]
    },
    {
      "cell_type": "code",
      "metadata": {
        "id": "L8JEV3Ml5E0A"
      },
      "source": [
        "#پاسخ سوال 5\n",
        "x_val = x_test[:200]\n",
        "x_test = x_test[200:]\n",
        "y_val = y_test[:200]\n",
        "y_test = y_test[200:]\n"
      ],
      "execution_count": 22,
      "outputs": []
    },
    {
      "cell_type": "code",
      "metadata": {
        "colab": {
          "base_uri": "https://localhost:8080/"
        },
        "id": "aU8V_fcJ5KW3",
        "outputId": "a4b3de67-d28c-484f-cbcc-7d6c1c745ff3"
      },
      "source": [
        "history = model.fit(x_train, y_train,\n",
        "          epochs=25, batch_size=64, validation_data = (x_val, y_val))"
      ],
      "execution_count": 23,
      "outputs": [
        {
          "output_type": "stream",
          "text": [
            "Epoch 1/25\n",
            "782/782 [==============================] - 45s 5ms/step - loss: 2.0104 - accuracy: 0.2524 - val_loss: 1.6195 - val_accuracy: 0.4200\n",
            "Epoch 2/25\n",
            "782/782 [==============================] - 3s 4ms/step - loss: 1.5682 - accuracy: 0.4347 - val_loss: 1.4387 - val_accuracy: 0.4350\n",
            "Epoch 3/25\n",
            "782/782 [==============================] - 3s 4ms/step - loss: 1.4058 - accuracy: 0.4976 - val_loss: 1.2533 - val_accuracy: 0.5350\n",
            "Epoch 4/25\n",
            "782/782 [==============================] - 3s 4ms/step - loss: 1.3181 - accuracy: 0.5313 - val_loss: 1.2605 - val_accuracy: 0.5300\n",
            "Epoch 5/25\n",
            "782/782 [==============================] - 3s 4ms/step - loss: 1.2472 - accuracy: 0.5567 - val_loss: 1.2162 - val_accuracy: 0.5300\n",
            "Epoch 6/25\n",
            "782/782 [==============================] - 3s 4ms/step - loss: 1.2029 - accuracy: 0.5757 - val_loss: 1.1736 - val_accuracy: 0.5100\n",
            "Epoch 7/25\n",
            "782/782 [==============================] - 3s 4ms/step - loss: 1.1515 - accuracy: 0.5929 - val_loss: 1.2300 - val_accuracy: 0.5250\n",
            "Epoch 8/25\n",
            "782/782 [==============================] - 3s 4ms/step - loss: 1.1261 - accuracy: 0.6015 - val_loss: 1.2919 - val_accuracy: 0.5450\n",
            "Epoch 9/25\n",
            "782/782 [==============================] - 3s 4ms/step - loss: 1.0942 - accuracy: 0.6190 - val_loss: 1.0827 - val_accuracy: 0.5800\n",
            "Epoch 10/25\n",
            "782/782 [==============================] - 3s 4ms/step - loss: 1.0738 - accuracy: 0.6225 - val_loss: 1.0935 - val_accuracy: 0.6100\n",
            "Epoch 11/25\n",
            "782/782 [==============================] - 3s 4ms/step - loss: 1.0567 - accuracy: 0.6320 - val_loss: 1.0077 - val_accuracy: 0.6300\n",
            "Epoch 12/25\n",
            "782/782 [==============================] - 3s 4ms/step - loss: 1.0312 - accuracy: 0.6392 - val_loss: 0.9800 - val_accuracy: 0.6550\n",
            "Epoch 13/25\n",
            "782/782 [==============================] - 3s 4ms/step - loss: 1.0109 - accuracy: 0.6434 - val_loss: 1.0425 - val_accuracy: 0.6100\n",
            "Epoch 14/25\n",
            "782/782 [==============================] - 3s 4ms/step - loss: 1.0115 - accuracy: 0.6462 - val_loss: 1.1762 - val_accuracy: 0.5650\n",
            "Epoch 15/25\n",
            "782/782 [==============================] - 3s 4ms/step - loss: 0.9932 - accuracy: 0.6538 - val_loss: 0.9738 - val_accuracy: 0.6400\n",
            "Epoch 16/25\n",
            "782/782 [==============================] - 3s 4ms/step - loss: 0.9737 - accuracy: 0.6545 - val_loss: 0.9355 - val_accuracy: 0.6300\n",
            "Epoch 17/25\n",
            "782/782 [==============================] - 3s 4ms/step - loss: 0.9681 - accuracy: 0.6609 - val_loss: 0.9289 - val_accuracy: 0.6500\n",
            "Epoch 18/25\n",
            "782/782 [==============================] - 3s 4ms/step - loss: 0.9563 - accuracy: 0.6671 - val_loss: 1.0026 - val_accuracy: 0.6200\n",
            "Epoch 19/25\n",
            "782/782 [==============================] - 3s 4ms/step - loss: 0.9414 - accuracy: 0.6725 - val_loss: 0.9525 - val_accuracy: 0.6600\n",
            "Epoch 20/25\n",
            "782/782 [==============================] - 3s 4ms/step - loss: 0.9480 - accuracy: 0.6679 - val_loss: 0.9653 - val_accuracy: 0.6350\n",
            "Epoch 21/25\n",
            "782/782 [==============================] - 3s 4ms/step - loss: 0.9293 - accuracy: 0.6774 - val_loss: 0.9384 - val_accuracy: 0.6550\n",
            "Epoch 22/25\n",
            "782/782 [==============================] - 3s 4ms/step - loss: 0.9155 - accuracy: 0.6808 - val_loss: 0.9704 - val_accuracy: 0.6400\n",
            "Epoch 23/25\n",
            "782/782 [==============================] - 3s 4ms/step - loss: 0.9099 - accuracy: 0.6832 - val_loss: 0.9412 - val_accuracy: 0.6500\n",
            "Epoch 24/25\n",
            "782/782 [==============================] - 3s 4ms/step - loss: 0.9137 - accuracy: 0.6785 - val_loss: 0.9721 - val_accuracy: 0.6350\n",
            "Epoch 25/25\n",
            "782/782 [==============================] - 3s 4ms/step - loss: 0.9098 - accuracy: 0.6790 - val_loss: 1.0040 - val_accuracy: 0.6200\n"
          ],
          "name": "stdout"
        }
      ]
    },
    {
      "cell_type": "code",
      "metadata": {
        "colab": {
          "base_uri": "https://localhost:8080/"
        },
        "id": "ib5cRupC75Xt",
        "outputId": "7da030a4-3dac-4a3b-f0ac-03ea7e03a8da"
      },
      "source": [
        "# پاسخ سوال 6\n",
        "opt_rms = keras.optimizers.Adam(lr=0.001, decay=1e-6)\n",
        "model.compile(loss='categorical_crossentropy',\n",
        "              optimizer=opt_rms,\n",
        "              metrics=['accuracy'])"
      ],
      "execution_count": 25,
      "outputs": [
        {
          "output_type": "stream",
          "text": [
            "/usr/local/lib/python3.7/dist-packages/tensorflow/python/keras/optimizer_v2/optimizer_v2.py:375: UserWarning: The `lr` argument is deprecated, use `learning_rate` instead.\n",
            "  \"The `lr` argument is deprecated, use `learning_rate` instead.\")\n"
          ],
          "name": "stderr"
        }
      ]
    },
    {
      "cell_type": "code",
      "metadata": {
        "colab": {
          "base_uri": "https://localhost:8080/"
        },
        "id": "i-rkzSKB8KBy",
        "outputId": "0faa510e-2cbe-4df9-ac59-b8d46ca992aa"
      },
      "source": [
        "history = model.fit(x_train, y_train,\n",
        "          epochs=40, batch_size=64, validation_data = (x_val, y_val))"
      ],
      "execution_count": 26,
      "outputs": [
        {
          "output_type": "stream",
          "text": [
            "Epoch 1/40\n",
            "782/782 [==============================] - 4s 5ms/step - loss: 0.8830 - accuracy: 0.6887 - val_loss: 0.8702 - val_accuracy: 0.6450\n",
            "Epoch 2/40\n",
            "782/782 [==============================] - 3s 4ms/step - loss: 0.8710 - accuracy: 0.6938 - val_loss: 0.9448 - val_accuracy: 0.6300\n",
            "Epoch 3/40\n",
            "782/782 [==============================] - 3s 4ms/step - loss: 0.8541 - accuracy: 0.7023 - val_loss: 0.8466 - val_accuracy: 0.6800\n",
            "Epoch 4/40\n",
            "782/782 [==============================] - 3s 4ms/step - loss: 0.8560 - accuracy: 0.7010 - val_loss: 0.8633 - val_accuracy: 0.6550\n",
            "Epoch 5/40\n",
            "782/782 [==============================] - 3s 4ms/step - loss: 0.8444 - accuracy: 0.7041 - val_loss: 0.8045 - val_accuracy: 0.6850\n",
            "Epoch 6/40\n",
            "782/782 [==============================] - 3s 4ms/step - loss: 0.8415 - accuracy: 0.7052 - val_loss: 0.8554 - val_accuracy: 0.6650\n",
            "Epoch 7/40\n",
            "782/782 [==============================] - 3s 4ms/step - loss: 0.8221 - accuracy: 0.7067 - val_loss: 0.8332 - val_accuracy: 0.6800\n",
            "Epoch 8/40\n",
            "782/782 [==============================] - 3s 4ms/step - loss: 0.8271 - accuracy: 0.7078 - val_loss: 0.8117 - val_accuracy: 0.6750\n",
            "Epoch 9/40\n",
            "782/782 [==============================] - 3s 4ms/step - loss: 0.8214 - accuracy: 0.7094 - val_loss: 0.8263 - val_accuracy: 0.6800\n",
            "Epoch 10/40\n",
            "782/782 [==============================] - 3s 4ms/step - loss: 0.8156 - accuracy: 0.7126 - val_loss: 0.7897 - val_accuracy: 0.7200\n",
            "Epoch 11/40\n",
            "782/782 [==============================] - 3s 4ms/step - loss: 0.8064 - accuracy: 0.7134 - val_loss: 0.8062 - val_accuracy: 0.7000\n",
            "Epoch 12/40\n",
            "782/782 [==============================] - 3s 4ms/step - loss: 0.8057 - accuracy: 0.7174 - val_loss: 0.8037 - val_accuracy: 0.7000\n",
            "Epoch 13/40\n",
            "782/782 [==============================] - 3s 4ms/step - loss: 0.7916 - accuracy: 0.7203 - val_loss: 0.8083 - val_accuracy: 0.7100\n",
            "Epoch 14/40\n",
            "782/782 [==============================] - 3s 4ms/step - loss: 0.7926 - accuracy: 0.7208 - val_loss: 0.7451 - val_accuracy: 0.6950\n",
            "Epoch 15/40\n",
            "782/782 [==============================] - 3s 4ms/step - loss: 0.7909 - accuracy: 0.7212 - val_loss: 0.7982 - val_accuracy: 0.6950\n",
            "Epoch 16/40\n",
            "782/782 [==============================] - 3s 4ms/step - loss: 0.7913 - accuracy: 0.7214 - val_loss: 0.7962 - val_accuracy: 0.6900\n",
            "Epoch 17/40\n",
            "782/782 [==============================] - 3s 4ms/step - loss: 0.7899 - accuracy: 0.7233 - val_loss: 0.7848 - val_accuracy: 0.7050\n",
            "Epoch 18/40\n",
            "782/782 [==============================] - 3s 4ms/step - loss: 0.7789 - accuracy: 0.7235 - val_loss: 0.7825 - val_accuracy: 0.7000\n",
            "Epoch 19/40\n",
            "782/782 [==============================] - 3s 4ms/step - loss: 0.7692 - accuracy: 0.7286 - val_loss: 0.7661 - val_accuracy: 0.7150\n",
            "Epoch 20/40\n",
            "782/782 [==============================] - 3s 4ms/step - loss: 0.7672 - accuracy: 0.7302 - val_loss: 0.7945 - val_accuracy: 0.7050\n",
            "Epoch 21/40\n",
            "782/782 [==============================] - 3s 4ms/step - loss: 0.7634 - accuracy: 0.7296 - val_loss: 0.7890 - val_accuracy: 0.7000\n",
            "Epoch 22/40\n",
            "782/782 [==============================] - 3s 4ms/step - loss: 0.7665 - accuracy: 0.7283 - val_loss: 0.7429 - val_accuracy: 0.7050\n",
            "Epoch 23/40\n",
            "782/782 [==============================] - 3s 4ms/step - loss: 0.7505 - accuracy: 0.7334 - val_loss: 0.7523 - val_accuracy: 0.7250\n",
            "Epoch 24/40\n",
            "782/782 [==============================] - 3s 4ms/step - loss: 0.7563 - accuracy: 0.7323 - val_loss: 0.7596 - val_accuracy: 0.7150\n",
            "Epoch 25/40\n",
            "782/782 [==============================] - 3s 4ms/step - loss: 0.7567 - accuracy: 0.7315 - val_loss: 0.7603 - val_accuracy: 0.7100\n",
            "Epoch 26/40\n",
            "782/782 [==============================] - 3s 4ms/step - loss: 0.7480 - accuracy: 0.7373 - val_loss: 0.7775 - val_accuracy: 0.7100\n",
            "Epoch 27/40\n",
            "782/782 [==============================] - 3s 4ms/step - loss: 0.7435 - accuracy: 0.7345 - val_loss: 0.8020 - val_accuracy: 0.6900\n",
            "Epoch 28/40\n",
            "782/782 [==============================] - 3s 4ms/step - loss: 0.7426 - accuracy: 0.7397 - val_loss: 0.7601 - val_accuracy: 0.7100\n",
            "Epoch 29/40\n",
            "782/782 [==============================] - 3s 4ms/step - loss: 0.7419 - accuracy: 0.7428 - val_loss: 0.7934 - val_accuracy: 0.7100\n",
            "Epoch 30/40\n",
            "782/782 [==============================] - 3s 4ms/step - loss: 0.7476 - accuracy: 0.7364 - val_loss: 0.7383 - val_accuracy: 0.7150\n",
            "Epoch 31/40\n",
            "782/782 [==============================] - 3s 4ms/step - loss: 0.7312 - accuracy: 0.7444 - val_loss: 0.7596 - val_accuracy: 0.7150\n",
            "Epoch 32/40\n",
            "782/782 [==============================] - 3s 4ms/step - loss: 0.7358 - accuracy: 0.7375 - val_loss: 0.7813 - val_accuracy: 0.6750\n",
            "Epoch 33/40\n",
            "782/782 [==============================] - 3s 4ms/step - loss: 0.7366 - accuracy: 0.7409 - val_loss: 0.7612 - val_accuracy: 0.7250\n",
            "Epoch 34/40\n",
            "782/782 [==============================] - 3s 4ms/step - loss: 0.7231 - accuracy: 0.7459 - val_loss: 0.7580 - val_accuracy: 0.6950\n",
            "Epoch 35/40\n",
            "782/782 [==============================] - 3s 4ms/step - loss: 0.7309 - accuracy: 0.7433 - val_loss: 0.7916 - val_accuracy: 0.7350\n",
            "Epoch 36/40\n",
            "782/782 [==============================] - 3s 4ms/step - loss: 0.7197 - accuracy: 0.7422 - val_loss: 0.7581 - val_accuracy: 0.7350\n",
            "Epoch 37/40\n",
            "782/782 [==============================] - 3s 4ms/step - loss: 0.7242 - accuracy: 0.7424 - val_loss: 0.7543 - val_accuracy: 0.7050\n",
            "Epoch 38/40\n",
            "782/782 [==============================] - 3s 4ms/step - loss: 0.7124 - accuracy: 0.7473 - val_loss: 0.7665 - val_accuracy: 0.7250\n",
            "Epoch 39/40\n",
            "782/782 [==============================] - 3s 4ms/step - loss: 0.7114 - accuracy: 0.7455 - val_loss: 0.7347 - val_accuracy: 0.7250\n",
            "Epoch 40/40\n",
            "782/782 [==============================] - 3s 4ms/step - loss: 0.7186 - accuracy: 0.7447 - val_loss: 0.7365 - val_accuracy: 0.7050\n"
          ],
          "name": "stdout"
        }
      ]
    },
    {
      "cell_type": "code",
      "metadata": {
        "colab": {
          "base_uri": "https://localhost:8080/",
          "height": 545
        },
        "id": "qae7oJ9987-s",
        "outputId": "f203083b-1dde-4b2e-8232-db69a0150498"
      },
      "source": [
        "import matplotlib.pyplot as plt\n",
        "%matplotlib inline\n",
        "acc = history.history['accuracy']\n",
        "val_acc = history.history['val_accuracy']\n",
        "loss = history.history['loss']\n",
        "val_loss = history.history['val_loss']\n",
        "\n",
        "epochs = range(len(acc))\n",
        "\n",
        "plt.plot(epochs, acc, 'bo', label='Training acc')\n",
        "plt.plot(epochs, val_acc, 'b', label='Validation acc')\n",
        "plt.title('Training and validation accuracy')\n",
        "plt.legend()\n",
        "\n",
        "plt.figure()\n",
        "\n",
        "plt.plot(epochs, loss, 'bo', label='Training loss')\n",
        "plt.plot(epochs, val_loss, 'b', label='Validation loss')\n",
        "plt.title('Training and validation loss')\n",
        "plt.legend()\n",
        "\n",
        "plt.show()"
      ],
      "execution_count": 27,
      "outputs": [
        {
          "output_type": "display_data",
          "data": {
            "image/png": "[encoded data removed]",
            "text/plain": [
              "<Figure size 432x288 with 1 Axes>"
            ]
          },
          "metadata": {
            "tags": [],
            "needs_background": "light"
          }
        },
        {
          "output_type": "display_data",
          "data": {
            "image/png": "[encoded data removed]",
            "text/plain": [
              "<Figure size 432x288 with 1 Axes>"
            ]
          },
          "metadata": {
            "tags": [],
            "needs_background": "light"
          }
        }
      ]
    }
  ]
}